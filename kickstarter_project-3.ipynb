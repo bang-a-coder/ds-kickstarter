{
  "cells": [
    {
      "cell_type": "code",
      "execution_count": 79,
      "metadata": {
        "colab": {
          "base_uri": "https://localhost:8080/",
          "height": 426
        },
        "id": "5PbMsJumCmD9",
        "outputId": "00f79d1e-ffd5-49f4-c980-51afafefa51d"
      },
      "outputs": [
        {
          "data": {
            "text/html": [
              "<div>\n",
              "<style scoped>\n",
              "    .dataframe tbody tr th:only-of-type {\n",
              "        vertical-align: middle;\n",
              "    }\n",
              "\n",
              "    .dataframe tbody tr th {\n",
              "        vertical-align: top;\n",
              "    }\n",
              "\n",
              "    .dataframe thead th {\n",
              "        text-align: right;\n",
              "    }\n",
              "</style>\n",
              "<table border=\"1\" class=\"dataframe\">\n",
              "  <thead>\n",
              "    <tr style=\"text-align: right;\">\n",
              "      <th></th>\n",
              "      <th>project_id</th>\n",
              "      <th>backers_count</th>\n",
              "      <th>blurb</th>\n",
              "      <th>category</th>\n",
              "      <th>converted_pledged_amount</th>\n",
              "      <th>country</th>\n",
              "      <th>created_at</th>\n",
              "      <th>currency</th>\n",
              "      <th>deadline</th>\n",
              "      <th>fx_rate</th>\n",
              "      <th>...</th>\n",
              "      <th>launched_at</th>\n",
              "      <th>name</th>\n",
              "      <th>pledged</th>\n",
              "      <th>staff_pick</th>\n",
              "      <th>usd_pledged</th>\n",
              "      <th>location</th>\n",
              "      <th>funded</th>\n",
              "      <th>subcategory</th>\n",
              "      <th>project_url</th>\n",
              "      <th>reward_url</th>\n",
              "    </tr>\n",
              "  </thead>\n",
              "  <tbody>\n",
              "    <tr>\n",
              "      <th>0</th>\n",
              "      <td>KS_000000</td>\n",
              "      <td>80</td>\n",
              "      <td>I will be an artist-in-residence at Elsewhere ...</td>\n",
              "      <td>art</td>\n",
              "      <td>3596</td>\n",
              "      <td>US</td>\n",
              "      <td>1325980505</td>\n",
              "      <td>USD</td>\n",
              "      <td>1334866560</td>\n",
              "      <td>1.000000</td>\n",
              "      <td>...</td>\n",
              "      <td>1332969260</td>\n",
              "      <td>Elsewhere Studios artist-in-residency program!</td>\n",
              "      <td>3596.00</td>\n",
              "      <td>False</td>\n",
              "      <td>3596.000000</td>\n",
              "      <td>Paonia, CO</td>\n",
              "      <td>True</td>\n",
              "      <td>mixed media</td>\n",
              "      <td>https://www.kickstarter.com/projects/hilaryeme...</td>\n",
              "      <td>https://www.kickstarter.com/projects/hilaryeme...</td>\n",
              "    </tr>\n",
              "    <tr>\n",
              "      <th>1</th>\n",
              "      <td>KS_000001</td>\n",
              "      <td>82</td>\n",
              "      <td>1000 Artists is a public art-making installati...</td>\n",
              "      <td>art</td>\n",
              "      <td>4586</td>\n",
              "      <td>US</td>\n",
              "      <td>1330926084</td>\n",
              "      <td>USD</td>\n",
              "      <td>1336440145</td>\n",
              "      <td>1.000000</td>\n",
              "      <td>...</td>\n",
              "      <td>1332984145</td>\n",
              "      <td>1000 Artists: Presidential Inauguration 2013</td>\n",
              "      <td>4586.00</td>\n",
              "      <td>False</td>\n",
              "      <td>4586.000000</td>\n",
              "      <td>Washington, DC</td>\n",
              "      <td>True</td>\n",
              "      <td>public art</td>\n",
              "      <td>https://www.kickstarter.com/projects/17146650/...</td>\n",
              "      <td>https://www.kickstarter.com/projects/17146650/...</td>\n",
              "    </tr>\n",
              "    <tr>\n",
              "      <th>2</th>\n",
              "      <td>KS_000002</td>\n",
              "      <td>21</td>\n",
              "      <td>The Sequel to ‘My Favorite Machine”, \"MyPhoneH...</td>\n",
              "      <td>art</td>\n",
              "      <td>5217</td>\n",
              "      <td>US</td>\n",
              "      <td>1332382894</td>\n",
              "      <td>USD</td>\n",
              "      <td>1338175739</td>\n",
              "      <td>1.000000</td>\n",
              "      <td>...</td>\n",
              "      <td>1332991739</td>\n",
              "      <td>MyPhoneHenge</td>\n",
              "      <td>5217.00</td>\n",
              "      <td>False</td>\n",
              "      <td>5217.000000</td>\n",
              "      <td>Frisco, TX</td>\n",
              "      <td>True</td>\n",
              "      <td>sculpture</td>\n",
              "      <td>https://www.kickstarter.com/projects/belveal/m...</td>\n",
              "      <td>https://www.kickstarter.com/projects/belveal/m...</td>\n",
              "    </tr>\n",
              "    <tr>\n",
              "      <th>3</th>\n",
              "      <td>KS_000003</td>\n",
              "      <td>37</td>\n",
              "      <td>A film exploring the role and value of art edu...</td>\n",
              "      <td>art</td>\n",
              "      <td>7160</td>\n",
              "      <td>GB</td>\n",
              "      <td>1332342451</td>\n",
              "      <td>USD</td>\n",
              "      <td>1334806096</td>\n",
              "      <td>1.000000</td>\n",
              "      <td>...</td>\n",
              "      <td>1332991696</td>\n",
              "      <td>Walk-Through</td>\n",
              "      <td>7160.00</td>\n",
              "      <td>False</td>\n",
              "      <td>7160.000000</td>\n",
              "      <td>Glasgow, UK</td>\n",
              "      <td>True</td>\n",
              "      <td>art</td>\n",
              "      <td>https://www.kickstarter.com/projects/107813091...</td>\n",
              "      <td>https://www.kickstarter.com/projects/107813091...</td>\n",
              "    </tr>\n",
              "    <tr>\n",
              "      <th>4</th>\n",
              "      <td>KS_000004</td>\n",
              "      <td>153</td>\n",
              "      <td>We need to build a kitchen for Habitable Space...</td>\n",
              "      <td>art</td>\n",
              "      <td>15445</td>\n",
              "      <td>US</td>\n",
              "      <td>1328562617</td>\n",
              "      <td>USD</td>\n",
              "      <td>1335584240</td>\n",
              "      <td>1.000000</td>\n",
              "      <td>...</td>\n",
              "      <td>1332992240</td>\n",
              "      <td>A kitchen for Habitable Spaces</td>\n",
              "      <td>15445.00</td>\n",
              "      <td>False</td>\n",
              "      <td>15445.000000</td>\n",
              "      <td>Kingsbury, TX</td>\n",
              "      <td>True</td>\n",
              "      <td>public art</td>\n",
              "      <td>https://www.kickstarter.com/projects/104409276...</td>\n",
              "      <td>https://www.kickstarter.com/projects/104409276...</td>\n",
              "    </tr>\n",
              "    <tr>\n",
              "      <th>...</th>\n",
              "      <td>...</td>\n",
              "      <td>...</td>\n",
              "      <td>...</td>\n",
              "      <td>...</td>\n",
              "      <td>...</td>\n",
              "      <td>...</td>\n",
              "      <td>...</td>\n",
              "      <td>...</td>\n",
              "      <td>...</td>\n",
              "      <td>...</td>\n",
              "      <td>...</td>\n",
              "      <td>...</td>\n",
              "      <td>...</td>\n",
              "      <td>...</td>\n",
              "      <td>...</td>\n",
              "      <td>...</td>\n",
              "      <td>...</td>\n",
              "      <td>...</td>\n",
              "      <td>...</td>\n",
              "      <td>...</td>\n",
              "      <td>...</td>\n",
              "    </tr>\n",
              "    <tr>\n",
              "      <th>99995</th>\n",
              "      <td>KS_099995</td>\n",
              "      <td>104</td>\n",
              "      <td>Make the workshop/ small stage space at Jimmy'...</td>\n",
              "      <td>theater</td>\n",
              "      <td>7595</td>\n",
              "      <td>US</td>\n",
              "      <td>1348677893</td>\n",
              "      <td>USD</td>\n",
              "      <td>1356552252</td>\n",
              "      <td>1.000000</td>\n",
              "      <td>...</td>\n",
              "      <td>1353960252</td>\n",
              "      <td>Help Fund the \"Back Room\" Arts Space at Jimmy'...</td>\n",
              "      <td>7595.43</td>\n",
              "      <td>False</td>\n",
              "      <td>7595.430000</td>\n",
              "      <td>New York, NY</td>\n",
              "      <td>True</td>\n",
              "      <td>spaces</td>\n",
              "      <td>https://www.kickstarter.com/projects/jimmycarb...</td>\n",
              "      <td>https://www.kickstarter.com/projects/jimmycarb...</td>\n",
              "    </tr>\n",
              "    <tr>\n",
              "      <th>99996</th>\n",
              "      <td>KS_099996</td>\n",
              "      <td>307</td>\n",
              "      <td>Help create a permanent home for live comedy s...</td>\n",
              "      <td>theater</td>\n",
              "      <td>27196</td>\n",
              "      <td>US</td>\n",
              "      <td>1364939099</td>\n",
              "      <td>USD</td>\n",
              "      <td>1367674009</td>\n",
              "      <td>1.000000</td>\n",
              "      <td>...</td>\n",
              "      <td>1365082009</td>\n",
              "      <td>The Coalition Theater</td>\n",
              "      <td>27196.71</td>\n",
              "      <td>False</td>\n",
              "      <td>27196.710000</td>\n",
              "      <td>Richmond, VA</td>\n",
              "      <td>True</td>\n",
              "      <td>spaces</td>\n",
              "      <td>https://www.kickstarter.com/projects/rvacomedy...</td>\n",
              "      <td>https://www.kickstarter.com/projects/rvacomedy...</td>\n",
              "    </tr>\n",
              "    <tr>\n",
              "      <th>99997</th>\n",
              "      <td>KS_099997</td>\n",
              "      <td>143</td>\n",
              "      <td>Voix de Ville is a pop-up imaginarium of neo-v...</td>\n",
              "      <td>theater</td>\n",
              "      <td>7226</td>\n",
              "      <td>US</td>\n",
              "      <td>1366078694</td>\n",
              "      <td>USD</td>\n",
              "      <td>1373738400</td>\n",
              "      <td>1.000000</td>\n",
              "      <td>...</td>\n",
              "      <td>1370568560</td>\n",
              "      <td>The Voix De Ville! : A Pop-up Theater and Cabaret</td>\n",
              "      <td>7226.00</td>\n",
              "      <td>True</td>\n",
              "      <td>7226.000000</td>\n",
              "      <td>Cleveland, OH</td>\n",
              "      <td>True</td>\n",
              "      <td>spaces</td>\n",
              "      <td>https://www.kickstarter.com/projects/160171209...</td>\n",
              "      <td>https://www.kickstarter.com/projects/160171209...</td>\n",
              "    </tr>\n",
              "    <tr>\n",
              "      <th>99998</th>\n",
              "      <td>KS_099998</td>\n",
              "      <td>329</td>\n",
              "      <td>Help Synetic Theater create a new Studio to pr...</td>\n",
              "      <td>theater</td>\n",
              "      <td>31683</td>\n",
              "      <td>US</td>\n",
              "      <td>1372177000</td>\n",
              "      <td>USD</td>\n",
              "      <td>1376654340</td>\n",
              "      <td>1.000000</td>\n",
              "      <td>...</td>\n",
              "      <td>1373568644</td>\n",
              "      <td>Save the Studio!</td>\n",
              "      <td>31683.00</td>\n",
              "      <td>False</td>\n",
              "      <td>31683.000000</td>\n",
              "      <td>Arlington, VA</td>\n",
              "      <td>True</td>\n",
              "      <td>spaces</td>\n",
              "      <td>https://www.kickstarter.com/projects/967829854...</td>\n",
              "      <td>https://www.kickstarter.com/projects/967829854...</td>\n",
              "    </tr>\n",
              "    <tr>\n",
              "      <th>99999</th>\n",
              "      <td>KS_099999</td>\n",
              "      <td>145</td>\n",
              "      <td>Be part of building Cardiff's first pub theatr...</td>\n",
              "      <td>theater</td>\n",
              "      <td>12639</td>\n",
              "      <td>GB</td>\n",
              "      <td>1398597170</td>\n",
              "      <td>GBP</td>\n",
              "      <td>1401465600</td>\n",
              "      <td>1.389543</td>\n",
              "      <td>...</td>\n",
              "      <td>1399032813</td>\n",
              "      <td>The Other Room – Cardiff’s First Pub Theatre</td>\n",
              "      <td>7555.00</td>\n",
              "      <td>False</td>\n",
              "      <td>12753.401034</td>\n",
              "      <td>Cardiff, UK</td>\n",
              "      <td>True</td>\n",
              "      <td>spaces</td>\n",
              "      <td>https://www.kickstarter.com/projects/159603433...</td>\n",
              "      <td>https://www.kickstarter.com/projects/159603433...</td>\n",
              "    </tr>\n",
              "  </tbody>\n",
              "</table>\n",
              "<p>100000 rows × 21 columns</p>\n",
              "</div>"
            ],
            "text/plain": [
              "      project_id  backers_count  \\\n",
              "0      KS_000000             80   \n",
              "1      KS_000001             82   \n",
              "2      KS_000002             21   \n",
              "3      KS_000003             37   \n",
              "4      KS_000004            153   \n",
              "...          ...            ...   \n",
              "99995  KS_099995            104   \n",
              "99996  KS_099996            307   \n",
              "99997  KS_099997            143   \n",
              "99998  KS_099998            329   \n",
              "99999  KS_099999            145   \n",
              "\n",
              "                                                   blurb category  \\\n",
              "0      I will be an artist-in-residence at Elsewhere ...      art   \n",
              "1      1000 Artists is a public art-making installati...      art   \n",
              "2      The Sequel to ‘My Favorite Machine”, \"MyPhoneH...      art   \n",
              "3      A film exploring the role and value of art edu...      art   \n",
              "4      We need to build a kitchen for Habitable Space...      art   \n",
              "...                                                  ...      ...   \n",
              "99995  Make the workshop/ small stage space at Jimmy'...  theater   \n",
              "99996  Help create a permanent home for live comedy s...  theater   \n",
              "99997  Voix de Ville is a pop-up imaginarium of neo-v...  theater   \n",
              "99998  Help Synetic Theater create a new Studio to pr...  theater   \n",
              "99999  Be part of building Cardiff's first pub theatr...  theater   \n",
              "\n",
              "       converted_pledged_amount country  created_at currency    deadline  \\\n",
              "0                          3596      US  1325980505      USD  1334866560   \n",
              "1                          4586      US  1330926084      USD  1336440145   \n",
              "2                          5217      US  1332382894      USD  1338175739   \n",
              "3                          7160      GB  1332342451      USD  1334806096   \n",
              "4                         15445      US  1328562617      USD  1335584240   \n",
              "...                         ...     ...         ...      ...         ...   \n",
              "99995                      7595      US  1348677893      USD  1356552252   \n",
              "99996                     27196      US  1364939099      USD  1367674009   \n",
              "99997                      7226      US  1366078694      USD  1373738400   \n",
              "99998                     31683      US  1372177000      USD  1376654340   \n",
              "99999                     12639      GB  1398597170      GBP  1401465600   \n",
              "\n",
              "        fx_rate  ...  launched_at  \\\n",
              "0      1.000000  ...   1332969260   \n",
              "1      1.000000  ...   1332984145   \n",
              "2      1.000000  ...   1332991739   \n",
              "3      1.000000  ...   1332991696   \n",
              "4      1.000000  ...   1332992240   \n",
              "...         ...  ...          ...   \n",
              "99995  1.000000  ...   1353960252   \n",
              "99996  1.000000  ...   1365082009   \n",
              "99997  1.000000  ...   1370568560   \n",
              "99998  1.000000  ...   1373568644   \n",
              "99999  1.389543  ...   1399032813   \n",
              "\n",
              "                                                    name   pledged  \\\n",
              "0         Elsewhere Studios artist-in-residency program!   3596.00   \n",
              "1           1000 Artists: Presidential Inauguration 2013   4586.00   \n",
              "2                                           MyPhoneHenge   5217.00   \n",
              "3                                           Walk-Through   7160.00   \n",
              "4                         A kitchen for Habitable Spaces  15445.00   \n",
              "...                                                  ...       ...   \n",
              "99995  Help Fund the \"Back Room\" Arts Space at Jimmy'...   7595.43   \n",
              "99996                              The Coalition Theater  27196.71   \n",
              "99997  The Voix De Ville! : A Pop-up Theater and Cabaret   7226.00   \n",
              "99998                                   Save the Studio!  31683.00   \n",
              "99999       The Other Room – Cardiff’s First Pub Theatre   7555.00   \n",
              "\n",
              "       staff_pick   usd_pledged        location funded  subcategory  \\\n",
              "0           False   3596.000000      Paonia, CO   True  mixed media   \n",
              "1           False   4586.000000  Washington, DC   True   public art   \n",
              "2           False   5217.000000      Frisco, TX   True    sculpture   \n",
              "3           False   7160.000000     Glasgow, UK   True          art   \n",
              "4           False  15445.000000   Kingsbury, TX   True   public art   \n",
              "...           ...           ...             ...    ...          ...   \n",
              "99995       False   7595.430000    New York, NY   True       spaces   \n",
              "99996       False  27196.710000    Richmond, VA   True       spaces   \n",
              "99997        True   7226.000000   Cleveland, OH   True       spaces   \n",
              "99998       False  31683.000000   Arlington, VA   True       spaces   \n",
              "99999       False  12753.401034     Cardiff, UK   True       spaces   \n",
              "\n",
              "                                             project_url  \\\n",
              "0      https://www.kickstarter.com/projects/hilaryeme...   \n",
              "1      https://www.kickstarter.com/projects/17146650/...   \n",
              "2      https://www.kickstarter.com/projects/belveal/m...   \n",
              "3      https://www.kickstarter.com/projects/107813091...   \n",
              "4      https://www.kickstarter.com/projects/104409276...   \n",
              "...                                                  ...   \n",
              "99995  https://www.kickstarter.com/projects/jimmycarb...   \n",
              "99996  https://www.kickstarter.com/projects/rvacomedy...   \n",
              "99997  https://www.kickstarter.com/projects/160171209...   \n",
              "99998  https://www.kickstarter.com/projects/967829854...   \n",
              "99999  https://www.kickstarter.com/projects/159603433...   \n",
              "\n",
              "                                              reward_url  \n",
              "0      https://www.kickstarter.com/projects/hilaryeme...  \n",
              "1      https://www.kickstarter.com/projects/17146650/...  \n",
              "2      https://www.kickstarter.com/projects/belveal/m...  \n",
              "3      https://www.kickstarter.com/projects/107813091...  \n",
              "4      https://www.kickstarter.com/projects/104409276...  \n",
              "...                                                  ...  \n",
              "99995  https://www.kickstarter.com/projects/jimmycarb...  \n",
              "99996  https://www.kickstarter.com/projects/rvacomedy...  \n",
              "99997  https://www.kickstarter.com/projects/160171209...  \n",
              "99998  https://www.kickstarter.com/projects/967829854...  \n",
              "99999  https://www.kickstarter.com/projects/159603433...  \n",
              "\n",
              "[100000 rows x 21 columns]"
            ]
          },
          "execution_count": 79,
          "metadata": {},
          "output_type": "execute_result"
        }
      ],
      "source": [
        "import pandas as pd\n",
        "import seaborn as sns\n",
        "import matplotlib as plt\n",
        "import matplotlib.pyplot as plt\n",
        "from scipy.stats import norm\n",
        "from scipy import stats\n",
        "import numpy as np\n",
        "\n",
        "\n",
        "df = pd.read_csv('KS_train_data.csv', delimiter=',', error_bad_lines=False)\n",
        "df\n"
      ]
    },
    {
      "cell_type": "markdown",
      "metadata": {
        "id": "PowsAZF6J4GF"
      },
      "source": [
        "#Data exploration"
      ]
    },
    {
      "cell_type": "markdown",
      "metadata": {
        "id": "RPKA0pDhJ695"
      },
      "source": [
        "## Structure"
      ]
    },
    {
      "cell_type": "markdown",
      "metadata": {
        "id": "B9CO3jDREx6N"
      },
      "source": [
        "**1. Does it have the right structure for the purpose? (can we give them an .xmml?)**\n",
        "The train data consist of 10,000 project considering 19 variable, such as date event created, deadline,goal of the project. In my opnion, this is already a structured data, because we can find the framework of each project directly. Therefore, the data can be putted in xml file because they are already good structured. \n",
        "<br>\n",
        "**2. Is the data structured by record?** Comparing this data with the Train data. Test data is merely dominated with categorial informattion comparing to numerical information. However, it is still well-structured, but less structured than Train data. \n",
        "\n",
        "**3. What are the record delimiters?**\n",
        "Also, both data are fixed filled in the file. This can be seen by both data are despicted in rows and columns which then can be viewed into pre-defined data. This is clearly the indication of structured data. Nevertheless, the Delimiter is the ',' which indicates the separation of rows and columns. "
      ]
    },
    {
      "cell_type": "markdown",
      "metadata": {
        "id": "CIDZhIRQKLS0"
      },
      "source": [
        "4. What are the field delimiters?\n",
        "\n",
        "Looking at the CSV file, we can see that the field delimiters are regular commas\n",
        "\n",
        "5. There are no column headlings\n",
        "\n",
        "Are there column headlings?\n"
      ]
    },
    {
      "cell_type": "markdown",
      "metadata": {
        "id": "ITnogfN0FpCE"
      },
      "source": [
        "##Granulariy"
      ]
    },
    {
      "cell_type": "markdown",
      "metadata": {
        "id": "1ogCkgD2FwXl"
      },
      "source": [
        "**Do you think the granularity is good enough for the purpose? (of this and that column)**\n",
        "I believe it is slightly coarse and has some missing entries that might effect the success of the project in addition the reward column is too wide for it to have an effect\n",
        "\n",
        "**2. Do all records represents reality at the same granularity?**\n",
        "Yes\n"
      ]
    },
    {
      "cell_type": "markdown",
      "metadata": {
        "id": "3X-rZMV1F4Xf"
      },
      "source": [
        "##Accuracy"
      ]
    },
    {
      "cell_type": "markdown",
      "metadata": {
        "id": "sxvGo22CGnc0"
      },
      "source": [
        "**Can we check the validity of certain fields, such as e-mails, credit cards nr?** \n",
        "We can just by going to the url and comparing the data to the one we have even though it cannot be efficently done"
      ]
    },
    {
      "cell_type": "markdown",
      "metadata": {
        "id": "fGt-ihxyGrC3"
      },
      "source": []
    },
    {
      "cell_type": "markdown",
      "metadata": {
        "id": "q-7RR9GvGu6X"
      },
      "source": [
        "## Correlations"
      ]
    },
    {
      "cell_type": "code",
      "execution_count": 80,
      "metadata": {
        "id": "VTpw-M44Gzv5"
      },
      "outputs": [
        {
          "data": {
            "text/plain": [
              "<AxesSubplot:>"
            ]
          },
          "execution_count": 80,
          "metadata": {},
          "output_type": "execute_result"
        },
        {
          "data": {
            "image/png": "[encoded data removed]",
            "text/plain": [
              "<Figure size 1080x576 with 2 Axes>"
            ]
          },
          "metadata": {},
          "output_type": "display_data"
        }
      ],
      "source": [
        "correlations = df.corr()\n",
        "sns.set(rc = {'figure.figsize':(15,8)})\n",
        "\n",
        "sns.heatmap(correlations, annot=True, linewidths=0.5)"
      ]
    },
    {
      "cell_type": "markdown",
      "metadata": {
        "id": "tH1f-KVCK1fa"
      },
      "source": [
        "We are goin to focus on the converted_pledged_money and the backers count"
      ]
    },
    {
      "cell_type": "markdown",
      "metadata": {
        "id": "NgEkMP1FJ5V9"
      },
      "source": [
        "# Outliers"
      ]
    },
    {
      "cell_type": "code",
      "execution_count": 81,
      "metadata": {
        "id": "UgQTMIMDKBy-"
      },
      "outputs": [
        {
          "name": "stderr",
          "output_type": "stream",
          "text": [
            "/Users/nikitasfilosofof/.pyenv/versions/3.9.1/lib/python3.9/site-packages/seaborn/distributions.py:2619: FutureWarning: `distplot` is a deprecated function and will be removed in a future version. Please adapt your code to use either `displot` (a figure-level function with similar flexibility) or `histplot` (an axes-level function for histograms).\n",
            "  warnings.warn(msg, FutureWarning)\n"
          ]
        },
        {
          "data": {
            "text/plain": [
              "<AxesSubplot:xlabel='goal', ylabel='Density'>"
            ]
          },
          "execution_count": 81,
          "metadata": {},
          "output_type": "execute_result"
        },
        {
          "data": {
            "image/png": "[encoded data removed]",
            "text/plain": [
              "<Figure size 1080x576 with 1 Axes>"
            ]
          },
          "metadata": {},
          "output_type": "display_data"
        }
      ],
      "source": [
        "sns.distplot(df['goal'])"
      ]
    },
    {
      "cell_type": "code",
      "execution_count": 82,
      "metadata": {},
      "outputs": [
        {
          "name": "stderr",
          "output_type": "stream",
          "text": [
            "*c* argument looks like a single numeric RGB or RGBA sequence, which should be avoided as value-mapping will have precedence in case its length matches with *x* & *y*.  Please use the *color* keyword-argument or provide a 2-D array with a single row if you intend to specify the same RGB or RGBA value for all points.\n"
          ]
        },
        {
          "data": {
            "image/png": "[encoded data removed]",
            "text/plain": [
              "<Figure size 1080x576 with 1 Axes>"
            ]
          },
          "metadata": {},
          "output_type": "display_data"
        }
      ],
      "source": [
        "plot = df.plot.scatter(y='backers_count', x='goal')\n",
        "plot.ticklabel_format(style='plain', useOffset=False)"
      ]
    },
    {
      "cell_type": "markdown",
      "metadata": {
        "id": "j7V39tdmQOnt"
      },
      "source": [
        "We consider outliers the projects that have a goal > 40000000"
      ]
    },
    {
      "cell_type": "code",
      "execution_count": 83,
      "metadata": {
        "id": "WxCS5s2rQYe1"
      },
      "outputs": [
        {
          "name": "stderr",
          "output_type": "stream",
          "text": [
            "*c* argument looks like a single numeric RGB or RGBA sequence, which should be avoided as value-mapping will have precedence in case its length matches with *x* & *y*.  Please use the *color* keyword-argument or provide a 2-D array with a single row if you intend to specify the same RGB or RGBA value for all points.\n"
          ]
        },
        {
          "data": {
            "image/png": "[encoded data removed]",
            "text/plain": [
              "<Figure size 1080x576 with 1 Axes>"
            ]
          },
          "metadata": {},
          "output_type": "display_data"
        }
      ],
      "source": [
        "df = df.drop(df.loc[df['goal']>1000000].index) #delete outliers\n",
        " \n",
        "plot = df.plot.scatter(y='backers_count', x='goal')\n",
        "plot.ticklabel_format(style='plain', useOffset=False)"
      ]
    },
    {
      "cell_type": "markdown",
      "metadata": {
        "id": "OXJonas4T-_9"
      },
      "source": [
        "We notice a projct that raised more than 6 million and affects the data signifiacntly. We decide to drop it."
      ]
    },
    {
      "cell_type": "markdown",
      "metadata": {
        "id": "ZnzAw2WzUzUq"
      },
      "source": [
        "## Missing Values"
      ]
    },
    {
      "cell_type": "code",
      "execution_count": 84,
      "metadata": {
        "id": "u-D19yzPVBus"
      },
      "outputs": [
        {
          "data": {
            "text/plain": [
              "project_id                  0\n",
              "backers_count               0\n",
              "blurb                       2\n",
              "category                    0\n",
              "converted_pledged_amount    0\n",
              "country                     3\n",
              "created_at                  0\n",
              "currency                    0\n",
              "deadline                    0\n",
              "fx_rate                     0\n",
              "goal                        0\n",
              "launched_at                 0\n",
              "name                        1\n",
              "pledged                     0\n",
              "staff_pick                  0\n",
              "usd_pledged                 0\n",
              "location                    0\n",
              "funded                      0\n",
              "subcategory                 0\n",
              "project_url                 0\n",
              "reward_url                  0\n",
              "dtype: int64"
            ]
          },
          "execution_count": 84,
          "metadata": {},
          "output_type": "execute_result"
        }
      ],
      "source": [
        "df.isnull().sum()"
      ]
    },
    {
      "cell_type": "markdown",
      "metadata": {
        "id": "yCrjtb4jVrB4"
      },
      "source": [
        "We see very few null values in the data. So we're going to manually visit the project pages and get the value (blurb, country, name) ourselves."
      ]
    },
    {
      "cell_type": "code",
      "execution_count": 85,
      "metadata": {
        "id": "HE3iJzlTVT0x"
      },
      "outputs": [
        {
          "data": {
            "text/plain": [
              "project_id                  0\n",
              "backers_count               0\n",
              "blurb                       0\n",
              "category                    0\n",
              "converted_pledged_amount    0\n",
              "country                     0\n",
              "created_at                  0\n",
              "currency                    0\n",
              "deadline                    0\n",
              "fx_rate                     0\n",
              "goal                        0\n",
              "launched_at                 0\n",
              "name                        0\n",
              "pledged                     0\n",
              "staff_pick                  0\n",
              "usd_pledged                 0\n",
              "location                    0\n",
              "funded                      0\n",
              "subcategory                 0\n",
              "project_url                 0\n",
              "reward_url                  0\n",
              "dtype: int64"
            ]
          },
          "execution_count": 85,
          "metadata": {},
          "output_type": "execute_result"
        }
      ],
      "source": [
        "df.iat[1857, 5] = 'NA' #Namibia\n",
        "df.at[46838, 'country'] = 'NA'\n",
        "df.at[56883, 'country'] = 'NA'\n",
        "\n",
        "df = df.drop(df.loc[df['blurb'].isnull()].index) #remove items that have no blurb\n",
        "df = df.drop(df.loc[df['country'].isnull()==True].index) #remove items that have no blurb\n",
        "\n",
        "df.isnull().sum()"
      ]
    },
    {
      "cell_type": "markdown",
      "metadata": {
        "id": "MYffSDIMckoz"
      },
      "source": [
        "## Normatlity"
      ]
    },
    {
      "cell_type": "code",
      "execution_count": 86,
      "metadata": {
        "id": "D7QRPydqcnNj"
      },
      "outputs": [
        {
          "data": {
            "text/plain": [
              "((array([-4.34546776, -4.14666785, -4.03853817, ...,  4.03853817,\n",
              "          4.14666785,  4.34546776]),\n",
              "  array([1.e-02, 1.e+00, 1.e+00, ..., 1.e+06, 1.e+06, 1.e+06])),\n",
              " (29300.42961013953, 17512.080651541895, 0.502646784227168))"
            ]
          },
          "execution_count": 86,
          "metadata": {},
          "output_type": "execute_result"
        },
        {
          "data": {
            "image/png": "[encoded data removed]",
            "text/plain": [
              "<Figure size 1080x576 with 1 Axes>"
            ]
          },
          "metadata": {},
          "output_type": "display_data"
        }
      ],
      "source": [
        "#sns.distplot(df['converted_pledged_amount'], fit=norm)\n",
        "\n",
        "stats.probplot(df['goal'], plot=plt, dist='norm')"
      ]
    },
    {
      "cell_type": "markdown",
      "metadata": {
        "id": "V62QWJtc14LA"
      },
      "source": [
        "\n",
        "\n",
        "```\n",
        "# This is formatted as code\n",
        "```\n",
        "\n",
        "### Normalise Numerc data"
      ]
    },
    {
      "cell_type": "code",
      "execution_count": 87,
      "metadata": {
        "id": "jgh6w4MH0dci"
      },
      "outputs": [
        {
          "data": {
            "text/html": [
              "<div>\n",
              "<style scoped>\n",
              "    .dataframe tbody tr th:only-of-type {\n",
              "        vertical-align: middle;\n",
              "    }\n",
              "\n",
              "    .dataframe tbody tr th {\n",
              "        vertical-align: top;\n",
              "    }\n",
              "\n",
              "    .dataframe thead th {\n",
              "        text-align: right;\n",
              "    }\n",
              "</style>\n",
              "<table border=\"1\" class=\"dataframe\">\n",
              "  <thead>\n",
              "    <tr style=\"text-align: right;\">\n",
              "      <th></th>\n",
              "      <th>project_id</th>\n",
              "      <th>backers_count</th>\n",
              "      <th>blurb</th>\n",
              "      <th>category</th>\n",
              "      <th>converted_pledged_amount</th>\n",
              "      <th>country</th>\n",
              "      <th>created_at</th>\n",
              "      <th>currency</th>\n",
              "      <th>deadline</th>\n",
              "      <th>fx_rate</th>\n",
              "      <th>...</th>\n",
              "      <th>funded</th>\n",
              "      <th>subcategory</th>\n",
              "      <th>project_url</th>\n",
              "      <th>reward_url</th>\n",
              "      <th>backers_count_log</th>\n",
              "      <th>converted_pledged_amount_log</th>\n",
              "      <th>fx_rate_log</th>\n",
              "      <th>goal_log</th>\n",
              "      <th>pledged_log</th>\n",
              "      <th>usd_pledged_log</th>\n",
              "    </tr>\n",
              "  </thead>\n",
              "  <tbody>\n",
              "    <tr>\n",
              "      <th>0</th>\n",
              "      <td>KS_000000</td>\n",
              "      <td>80</td>\n",
              "      <td>I will be an artist-in-residence at Elsewhere ...</td>\n",
              "      <td>art</td>\n",
              "      <td>3596</td>\n",
              "      <td>US</td>\n",
              "      <td>1325980505</td>\n",
              "      <td>USD</td>\n",
              "      <td>1334866560</td>\n",
              "      <td>1.000000</td>\n",
              "      <td>...</td>\n",
              "      <td>True</td>\n",
              "      <td>mixed media</td>\n",
              "      <td>https://www.kickstarter.com/projects/hilaryeme...</td>\n",
              "      <td>https://www.kickstarter.com/projects/hilaryeme...</td>\n",
              "      <td>1.903090</td>\n",
              "      <td>3.555820</td>\n",
              "      <td>0.000000</td>\n",
              "      <td>3.447158</td>\n",
              "      <td>3.555820</td>\n",
              "      <td>3.555820</td>\n",
              "    </tr>\n",
              "    <tr>\n",
              "      <th>1</th>\n",
              "      <td>KS_000001</td>\n",
              "      <td>82</td>\n",
              "      <td>1000 Artists is a public art-making installati...</td>\n",
              "      <td>art</td>\n",
              "      <td>4586</td>\n",
              "      <td>US</td>\n",
              "      <td>1330926084</td>\n",
              "      <td>USD</td>\n",
              "      <td>1336440145</td>\n",
              "      <td>1.000000</td>\n",
              "      <td>...</td>\n",
              "      <td>True</td>\n",
              "      <td>public art</td>\n",
              "      <td>https://www.kickstarter.com/projects/17146650/...</td>\n",
              "      <td>https://www.kickstarter.com/projects/17146650/...</td>\n",
              "      <td>1.913814</td>\n",
              "      <td>3.661434</td>\n",
              "      <td>0.000000</td>\n",
              "      <td>3.653213</td>\n",
              "      <td>3.661434</td>\n",
              "      <td>3.661434</td>\n",
              "    </tr>\n",
              "    <tr>\n",
              "      <th>2</th>\n",
              "      <td>KS_000002</td>\n",
              "      <td>21</td>\n",
              "      <td>The Sequel to ‘My Favorite Machine”, \"MyPhoneH...</td>\n",
              "      <td>art</td>\n",
              "      <td>5217</td>\n",
              "      <td>US</td>\n",
              "      <td>1332382894</td>\n",
              "      <td>USD</td>\n",
              "      <td>1338175739</td>\n",
              "      <td>1.000000</td>\n",
              "      <td>...</td>\n",
              "      <td>True</td>\n",
              "      <td>sculpture</td>\n",
              "      <td>https://www.kickstarter.com/projects/belveal/m...</td>\n",
              "      <td>https://www.kickstarter.com/projects/belveal/m...</td>\n",
              "      <td>1.322219</td>\n",
              "      <td>3.717421</td>\n",
              "      <td>0.000000</td>\n",
              "      <td>3.698970</td>\n",
              "      <td>3.717421</td>\n",
              "      <td>3.717421</td>\n",
              "    </tr>\n",
              "    <tr>\n",
              "      <th>3</th>\n",
              "      <td>KS_000003</td>\n",
              "      <td>37</td>\n",
              "      <td>A film exploring the role and value of art edu...</td>\n",
              "      <td>art</td>\n",
              "      <td>7160</td>\n",
              "      <td>GB</td>\n",
              "      <td>1332342451</td>\n",
              "      <td>USD</td>\n",
              "      <td>1334806096</td>\n",
              "      <td>1.000000</td>\n",
              "      <td>...</td>\n",
              "      <td>True</td>\n",
              "      <td>art</td>\n",
              "      <td>https://www.kickstarter.com/projects/107813091...</td>\n",
              "      <td>https://www.kickstarter.com/projects/107813091...</td>\n",
              "      <td>1.568202</td>\n",
              "      <td>3.854913</td>\n",
              "      <td>0.000000</td>\n",
              "      <td>3.812913</td>\n",
              "      <td>3.854913</td>\n",
              "      <td>3.854913</td>\n",
              "    </tr>\n",
              "    <tr>\n",
              "      <th>4</th>\n",
              "      <td>KS_000004</td>\n",
              "      <td>153</td>\n",
              "      <td>We need to build a kitchen for Habitable Space...</td>\n",
              "      <td>art</td>\n",
              "      <td>15445</td>\n",
              "      <td>US</td>\n",
              "      <td>1328562617</td>\n",
              "      <td>USD</td>\n",
              "      <td>1335584240</td>\n",
              "      <td>1.000000</td>\n",
              "      <td>...</td>\n",
              "      <td>True</td>\n",
              "      <td>public art</td>\n",
              "      <td>https://www.kickstarter.com/projects/104409276...</td>\n",
              "      <td>https://www.kickstarter.com/projects/104409276...</td>\n",
              "      <td>2.184691</td>\n",
              "      <td>4.188788</td>\n",
              "      <td>0.000000</td>\n",
              "      <td>4.176091</td>\n",
              "      <td>4.188788</td>\n",
              "      <td>4.188788</td>\n",
              "    </tr>\n",
              "    <tr>\n",
              "      <th>...</th>\n",
              "      <td>...</td>\n",
              "      <td>...</td>\n",
              "      <td>...</td>\n",
              "      <td>...</td>\n",
              "      <td>...</td>\n",
              "      <td>...</td>\n",
              "      <td>...</td>\n",
              "      <td>...</td>\n",
              "      <td>...</td>\n",
              "      <td>...</td>\n",
              "      <td>...</td>\n",
              "      <td>...</td>\n",
              "      <td>...</td>\n",
              "      <td>...</td>\n",
              "      <td>...</td>\n",
              "      <td>...</td>\n",
              "      <td>...</td>\n",
              "      <td>...</td>\n",
              "      <td>...</td>\n",
              "      <td>...</td>\n",
              "      <td>...</td>\n",
              "    </tr>\n",
              "    <tr>\n",
              "      <th>99995</th>\n",
              "      <td>KS_099995</td>\n",
              "      <td>104</td>\n",
              "      <td>Make the workshop/ small stage space at Jimmy'...</td>\n",
              "      <td>theater</td>\n",
              "      <td>7595</td>\n",
              "      <td>US</td>\n",
              "      <td>1348677893</td>\n",
              "      <td>USD</td>\n",
              "      <td>1356552252</td>\n",
              "      <td>1.000000</td>\n",
              "      <td>...</td>\n",
              "      <td>True</td>\n",
              "      <td>spaces</td>\n",
              "      <td>https://www.kickstarter.com/projects/jimmycarb...</td>\n",
              "      <td>https://www.kickstarter.com/projects/jimmycarb...</td>\n",
              "      <td>2.017033</td>\n",
              "      <td>3.880528</td>\n",
              "      <td>0.000000</td>\n",
              "      <td>3.845098</td>\n",
              "      <td>3.880552</td>\n",
              "      <td>3.880552</td>\n",
              "    </tr>\n",
              "    <tr>\n",
              "      <th>99996</th>\n",
              "      <td>KS_099996</td>\n",
              "      <td>307</td>\n",
              "      <td>Help create a permanent home for live comedy s...</td>\n",
              "      <td>theater</td>\n",
              "      <td>27196</td>\n",
              "      <td>US</td>\n",
              "      <td>1364939099</td>\n",
              "      <td>USD</td>\n",
              "      <td>1367674009</td>\n",
              "      <td>1.000000</td>\n",
              "      <td>...</td>\n",
              "      <td>True</td>\n",
              "      <td>spaces</td>\n",
              "      <td>https://www.kickstarter.com/projects/rvacomedy...</td>\n",
              "      <td>https://www.kickstarter.com/projects/rvacomedy...</td>\n",
              "      <td>2.487138</td>\n",
              "      <td>4.434505</td>\n",
              "      <td>0.000000</td>\n",
              "      <td>4.397940</td>\n",
              "      <td>4.434516</td>\n",
              "      <td>4.434516</td>\n",
              "    </tr>\n",
              "    <tr>\n",
              "      <th>99997</th>\n",
              "      <td>KS_099997</td>\n",
              "      <td>143</td>\n",
              "      <td>Voix de Ville is a pop-up imaginarium of neo-v...</td>\n",
              "      <td>theater</td>\n",
              "      <td>7226</td>\n",
              "      <td>US</td>\n",
              "      <td>1366078694</td>\n",
              "      <td>USD</td>\n",
              "      <td>1373738400</td>\n",
              "      <td>1.000000</td>\n",
              "      <td>...</td>\n",
              "      <td>True</td>\n",
              "      <td>spaces</td>\n",
              "      <td>https://www.kickstarter.com/projects/160171209...</td>\n",
              "      <td>https://www.kickstarter.com/projects/160171209...</td>\n",
              "      <td>2.155336</td>\n",
              "      <td>3.858898</td>\n",
              "      <td>0.000000</td>\n",
              "      <td>3.740363</td>\n",
              "      <td>3.858898</td>\n",
              "      <td>3.858898</td>\n",
              "    </tr>\n",
              "    <tr>\n",
              "      <th>99998</th>\n",
              "      <td>KS_099998</td>\n",
              "      <td>329</td>\n",
              "      <td>Help Synetic Theater create a new Studio to pr...</td>\n",
              "      <td>theater</td>\n",
              "      <td>31683</td>\n",
              "      <td>US</td>\n",
              "      <td>1372177000</td>\n",
              "      <td>USD</td>\n",
              "      <td>1376654340</td>\n",
              "      <td>1.000000</td>\n",
              "      <td>...</td>\n",
              "      <td>True</td>\n",
              "      <td>spaces</td>\n",
              "      <td>https://www.kickstarter.com/projects/967829854...</td>\n",
              "      <td>https://www.kickstarter.com/projects/967829854...</td>\n",
              "      <td>2.517196</td>\n",
              "      <td>4.500826</td>\n",
              "      <td>0.000000</td>\n",
              "      <td>4.397940</td>\n",
              "      <td>4.500826</td>\n",
              "      <td>4.500826</td>\n",
              "    </tr>\n",
              "    <tr>\n",
              "      <th>99999</th>\n",
              "      <td>KS_099999</td>\n",
              "      <td>145</td>\n",
              "      <td>Be part of building Cardiff's first pub theatr...</td>\n",
              "      <td>theater</td>\n",
              "      <td>12639</td>\n",
              "      <td>GB</td>\n",
              "      <td>1398597170</td>\n",
              "      <td>GBP</td>\n",
              "      <td>1401465600</td>\n",
              "      <td>1.389543</td>\n",
              "      <td>...</td>\n",
              "      <td>True</td>\n",
              "      <td>spaces</td>\n",
              "      <td>https://www.kickstarter.com/projects/159603433...</td>\n",
              "      <td>https://www.kickstarter.com/projects/159603433...</td>\n",
              "      <td>2.161368</td>\n",
              "      <td>4.101713</td>\n",
              "      <td>0.142872</td>\n",
              "      <td>3.397940</td>\n",
              "      <td>3.878234</td>\n",
              "      <td>4.105626</td>\n",
              "    </tr>\n",
              "  </tbody>\n",
              "</table>\n",
              "<p>99748 rows × 27 columns</p>\n",
              "</div>"
            ],
            "text/plain": [
              "      project_id  backers_count  \\\n",
              "0      KS_000000             80   \n",
              "1      KS_000001             82   \n",
              "2      KS_000002             21   \n",
              "3      KS_000003             37   \n",
              "4      KS_000004            153   \n",
              "...          ...            ...   \n",
              "99995  KS_099995            104   \n",
              "99996  KS_099996            307   \n",
              "99997  KS_099997            143   \n",
              "99998  KS_099998            329   \n",
              "99999  KS_099999            145   \n",
              "\n",
              "                                                   blurb category  \\\n",
              "0      I will be an artist-in-residence at Elsewhere ...      art   \n",
              "1      1000 Artists is a public art-making installati...      art   \n",
              "2      The Sequel to ‘My Favorite Machine”, \"MyPhoneH...      art   \n",
              "3      A film exploring the role and value of art edu...      art   \n",
              "4      We need to build a kitchen for Habitable Space...      art   \n",
              "...                                                  ...      ...   \n",
              "99995  Make the workshop/ small stage space at Jimmy'...  theater   \n",
              "99996  Help create a permanent home for live comedy s...  theater   \n",
              "99997  Voix de Ville is a pop-up imaginarium of neo-v...  theater   \n",
              "99998  Help Synetic Theater create a new Studio to pr...  theater   \n",
              "99999  Be part of building Cardiff's first pub theatr...  theater   \n",
              "\n",
              "       converted_pledged_amount country  created_at currency    deadline  \\\n",
              "0                          3596      US  1325980505      USD  1334866560   \n",
              "1                          4586      US  1330926084      USD  1336440145   \n",
              "2                          5217      US  1332382894      USD  1338175739   \n",
              "3                          7160      GB  1332342451      USD  1334806096   \n",
              "4                         15445      US  1328562617      USD  1335584240   \n",
              "...                         ...     ...         ...      ...         ...   \n",
              "99995                      7595      US  1348677893      USD  1356552252   \n",
              "99996                     27196      US  1364939099      USD  1367674009   \n",
              "99997                      7226      US  1366078694      USD  1373738400   \n",
              "99998                     31683      US  1372177000      USD  1376654340   \n",
              "99999                     12639      GB  1398597170      GBP  1401465600   \n",
              "\n",
              "        fx_rate  ...  funded  subcategory  \\\n",
              "0      1.000000  ...    True  mixed media   \n",
              "1      1.000000  ...    True   public art   \n",
              "2      1.000000  ...    True    sculpture   \n",
              "3      1.000000  ...    True          art   \n",
              "4      1.000000  ...    True   public art   \n",
              "...         ...  ...     ...          ...   \n",
              "99995  1.000000  ...    True       spaces   \n",
              "99996  1.000000  ...    True       spaces   \n",
              "99997  1.000000  ...    True       spaces   \n",
              "99998  1.000000  ...    True       spaces   \n",
              "99999  1.389543  ...    True       spaces   \n",
              "\n",
              "                                             project_url  \\\n",
              "0      https://www.kickstarter.com/projects/hilaryeme...   \n",
              "1      https://www.kickstarter.com/projects/17146650/...   \n",
              "2      https://www.kickstarter.com/projects/belveal/m...   \n",
              "3      https://www.kickstarter.com/projects/107813091...   \n",
              "4      https://www.kickstarter.com/projects/104409276...   \n",
              "...                                                  ...   \n",
              "99995  https://www.kickstarter.com/projects/jimmycarb...   \n",
              "99996  https://www.kickstarter.com/projects/rvacomedy...   \n",
              "99997  https://www.kickstarter.com/projects/160171209...   \n",
              "99998  https://www.kickstarter.com/projects/967829854...   \n",
              "99999  https://www.kickstarter.com/projects/159603433...   \n",
              "\n",
              "                                              reward_url  backers_count_log  \\\n",
              "0      https://www.kickstarter.com/projects/hilaryeme...           1.903090   \n",
              "1      https://www.kickstarter.com/projects/17146650/...           1.913814   \n",
              "2      https://www.kickstarter.com/projects/belveal/m...           1.322219   \n",
              "3      https://www.kickstarter.com/projects/107813091...           1.568202   \n",
              "4      https://www.kickstarter.com/projects/104409276...           2.184691   \n",
              "...                                                  ...                ...   \n",
              "99995  https://www.kickstarter.com/projects/jimmycarb...           2.017033   \n",
              "99996  https://www.kickstarter.com/projects/rvacomedy...           2.487138   \n",
              "99997  https://www.kickstarter.com/projects/160171209...           2.155336   \n",
              "99998  https://www.kickstarter.com/projects/967829854...           2.517196   \n",
              "99999  https://www.kickstarter.com/projects/159603433...           2.161368   \n",
              "\n",
              "       converted_pledged_amount_log fx_rate_log  goal_log pledged_log  \\\n",
              "0                          3.555820    0.000000  3.447158    3.555820   \n",
              "1                          3.661434    0.000000  3.653213    3.661434   \n",
              "2                          3.717421    0.000000  3.698970    3.717421   \n",
              "3                          3.854913    0.000000  3.812913    3.854913   \n",
              "4                          4.188788    0.000000  4.176091    4.188788   \n",
              "...                             ...         ...       ...         ...   \n",
              "99995                      3.880528    0.000000  3.845098    3.880552   \n",
              "99996                      4.434505    0.000000  4.397940    4.434516   \n",
              "99997                      3.858898    0.000000  3.740363    3.858898   \n",
              "99998                      4.500826    0.000000  4.397940    4.500826   \n",
              "99999                      4.101713    0.142872  3.397940    3.878234   \n",
              "\n",
              "      usd_pledged_log  \n",
              "0            3.555820  \n",
              "1            3.661434  \n",
              "2            3.717421  \n",
              "3            3.854913  \n",
              "4            4.188788  \n",
              "...               ...  \n",
              "99995        3.880552  \n",
              "99996        4.434516  \n",
              "99997        3.858898  \n",
              "99998        4.500826  \n",
              "99999        4.105626  \n",
              "\n",
              "[99748 rows x 27 columns]"
            ]
          },
          "execution_count": 87,
          "metadata": {},
          "output_type": "execute_result"
        }
      ],
      "source": [
        "\n",
        "\n",
        "df2=df.copy()\n",
        "\n",
        "df2=df2.drop(['project_id','blurb','category','country','currency','name','created_at','deadline','launched_at','staff_pick','location','funded','subcategory', 'project_url', 'reward_url'],axis=1)\n",
        "# df2=df2.set_index('project_id')\n",
        "df2=df2.apply(pd.to_numeric)\n",
        "df2= np.log10(df2)\n",
        "df2 = df2.rename(columns={'backers_count': 'backers_count_log', 'converted_pledged_amount': 'converted_pledged_amount_log','fx_rate': 'fx_rate_log','goal': 'goal_log','pledged': 'pledged_log','usd_pledged': 'usd_pledged_log'})\n",
        "\n",
        "# df=df.set_index('project_id')\n",
        "df = df.merge(df2, left_index=True, how='inner',right_index=True)\n",
        "df"
      ]
    },
    {
      "cell_type": "markdown",
      "metadata": {
        "id": "5rti8hOiK1KR"
      },
      "source": [
        "# Feature Derivation"
      ]
    },
    {
      "cell_type": "code",
      "execution_count": 88,
      "metadata": {
        "id": "9ke4SG-p9hOT"
      },
      "outputs": [],
      "source": [
        "\n",
        "\n",
        "#Convert date date to correct format\n",
        "df[['created_at','deadline','launched_at']] = df[['created_at','deadline','launched_at']].apply(pd.to_datetime,unit='s')\n",
        "\n",
        "#Derive duration of project feature\n",
        "df['duration'] = (df['deadline'] - df['launched_at'])\n",
        "\n",
        "#Derive word count of blurb as a new feature\n",
        "\n",
        "def word_count(blurb_list):\n",
        "    word_list =[]\n",
        "    for blurb_index in blurb_list:\n",
        "        word_list.append(len(str(blurb_index).split()))\n",
        "    return word_list\n",
        "\n",
        "df['word_count'] = word_count(df['blurb'])\n"
      ]
    },
    {
      "cell_type": "markdown",
      "metadata": {},
      "source": [
        "### Count of same day launces"
      ]
    },
    {
      "cell_type": "code",
      "execution_count": 147,
      "metadata": {},
      "outputs": [
        {
          "name": "stderr",
          "output_type": "stream",
          "text": [
            "<ipython-input-147-d9e1d769b1fd>:3: SettingWithCopyWarning: \n",
            "A value is trying to be set on a copy of a slice from a DataFrame.\n",
            "Try using .loc[row_indexer,col_indexer] = value instead\n",
            "\n",
            "See the caveats in the documentation: https://pandas.pydata.org/pandas-docs/stable/user_guide/indexing.html#returning-a-view-versus-a-copy\n",
            "  dateFrame['launched_at'] = dateFrame['launched_at'].dt.date\n",
            "<ipython-input-147-d9e1d769b1fd>:4: SettingWithCopyWarning: \n",
            "A value is trying to be set on a copy of a slice from a DataFrame.\n",
            "Try using .loc[row_indexer,col_indexer] = value instead\n",
            "\n",
            "See the caveats in the documentation: https://pandas.pydata.org/pandas-docs/stable/user_guide/indexing.html#returning-a-view-versus-a-copy\n",
            "  dateFrame['deadline'] = dateFrame['deadline'].dt.date\n",
            "<ipython-input-147-d9e1d769b1fd>:7: SettingWithCopyWarning: \n",
            "A value is trying to be set on a copy of a slice from a DataFrame.\n",
            "Try using .loc[row_indexer,col_indexer] = value instead\n",
            "\n",
            "See the caveats in the documentation: https://pandas.pydata.org/pandas-docs/stable/user_guide/indexing.html#returning-a-view-versus-a-copy\n",
            "  dateFrame['same_day_projects'] = 0\n",
            "/Users/nikitasfilosofof/.pyenv/versions/3.9.1/lib/python3.9/site-packages/pandas/core/indexing.py:1637: SettingWithCopyWarning: \n",
            "A value is trying to be set on a copy of a slice from a DataFrame\n",
            "\n",
            "See the caveats in the documentation: https://pandas.pydata.org/pandas-docs/stable/user_guide/indexing.html#returning-a-view-versus-a-copy\n",
            "  self._setitem_single_block(indexer, value, name)\n",
            "/Users/nikitasfilosofof/.pyenv/versions/3.9.1/lib/python3.9/site-packages/pandas/core/indexing.py:692: SettingWithCopyWarning: \n",
            "A value is trying to be set on a copy of a slice from a DataFrame\n",
            "\n",
            "See the caveats in the documentation: https://pandas.pydata.org/pandas-docs/stable/user_guide/indexing.html#returning-a-view-versus-a-copy\n",
            "  iloc._setitem_with_indexer(indexer, value, self.name)\n"
          ]
        },
        {
          "data": {
            "text/html": [
              "<div>\n",
              "<style scoped>\n",
              "    .dataframe tbody tr th:only-of-type {\n",
              "        vertical-align: middle;\n",
              "    }\n",
              "\n",
              "    .dataframe tbody tr th {\n",
              "        vertical-align: top;\n",
              "    }\n",
              "\n",
              "    .dataframe thead th {\n",
              "        text-align: right;\n",
              "    }\n",
              "</style>\n",
              "<table border=\"1\" class=\"dataframe\">\n",
              "  <thead>\n",
              "    <tr style=\"text-align: right;\">\n",
              "      <th></th>\n",
              "      <th>project_id</th>\n",
              "      <th>launched_at</th>\n",
              "      <th>deadline</th>\n",
              "      <th>duration</th>\n",
              "      <th>same_day_projects</th>\n",
              "    </tr>\n",
              "  </thead>\n",
              "  <tbody>\n",
              "    <tr>\n",
              "      <th>0</th>\n",
              "      <td>KS_000000</td>\n",
              "      <td>2012-03-28</td>\n",
              "      <td>2012-04-19</td>\n",
              "      <td>21 days 23:01:40</td>\n",
              "      <td>59</td>\n",
              "    </tr>\n",
              "    <tr>\n",
              "      <th>1</th>\n",
              "      <td>KS_000001</td>\n",
              "      <td>2012-03-29</td>\n",
              "      <td>2012-05-08</td>\n",
              "      <td>40 days 00:00:00</td>\n",
              "      <td>48</td>\n",
              "    </tr>\n",
              "    <tr>\n",
              "      <th>2</th>\n",
              "      <td>KS_000002</td>\n",
              "      <td>2012-03-29</td>\n",
              "      <td>2012-05-28</td>\n",
              "      <td>60 days 00:00:00</td>\n",
              "      <td>48</td>\n",
              "    </tr>\n",
              "    <tr>\n",
              "      <th>3</th>\n",
              "      <td>KS_000003</td>\n",
              "      <td>2012-03-29</td>\n",
              "      <td>2012-04-19</td>\n",
              "      <td>21 days 00:00:00</td>\n",
              "      <td>48</td>\n",
              "    </tr>\n",
              "    <tr>\n",
              "      <th>4</th>\n",
              "      <td>KS_000004</td>\n",
              "      <td>2012-03-29</td>\n",
              "      <td>2012-04-28</td>\n",
              "      <td>30 days 00:00:00</td>\n",
              "      <td>48</td>\n",
              "    </tr>\n",
              "    <tr>\n",
              "      <th>...</th>\n",
              "      <td>...</td>\n",
              "      <td>...</td>\n",
              "      <td>...</td>\n",
              "      <td>...</td>\n",
              "      <td>...</td>\n",
              "    </tr>\n",
              "    <tr>\n",
              "      <th>99995</th>\n",
              "      <td>KS_099995</td>\n",
              "      <td>2012-11-26</td>\n",
              "      <td>2012-12-26</td>\n",
              "      <td>30 days 00:00:00</td>\n",
              "      <td>33</td>\n",
              "    </tr>\n",
              "    <tr>\n",
              "      <th>99996</th>\n",
              "      <td>KS_099996</td>\n",
              "      <td>2013-04-04</td>\n",
              "      <td>2013-05-04</td>\n",
              "      <td>30 days 00:00:00</td>\n",
              "      <td>42</td>\n",
              "    </tr>\n",
              "    <tr>\n",
              "      <th>99997</th>\n",
              "      <td>KS_099997</td>\n",
              "      <td>2013-06-07</td>\n",
              "      <td>2013-07-13</td>\n",
              "      <td>36 days 16:30:40</td>\n",
              "      <td>32</td>\n",
              "    </tr>\n",
              "    <tr>\n",
              "      <th>99998</th>\n",
              "      <td>KS_099998</td>\n",
              "      <td>2013-07-11</td>\n",
              "      <td>2013-08-16</td>\n",
              "      <td>35 days 17:08:16</td>\n",
              "      <td>49</td>\n",
              "    </tr>\n",
              "    <tr>\n",
              "      <th>99999</th>\n",
              "      <td>KS_099999</td>\n",
              "      <td>2014-05-02</td>\n",
              "      <td>2014-05-30</td>\n",
              "      <td>28 days 03:46:27</td>\n",
              "      <td>54</td>\n",
              "    </tr>\n",
              "  </tbody>\n",
              "</table>\n",
              "<p>99748 rows × 5 columns</p>\n",
              "</div>"
            ],
            "text/plain": [
              "      project_id launched_at    deadline         duration  same_day_projects\n",
              "0      KS_000000  2012-03-28  2012-04-19 21 days 23:01:40                 59\n",
              "1      KS_000001  2012-03-29  2012-05-08 40 days 00:00:00                 48\n",
              "2      KS_000002  2012-03-29  2012-05-28 60 days 00:00:00                 48\n",
              "3      KS_000003  2012-03-29  2012-04-19 21 days 00:00:00                 48\n",
              "4      KS_000004  2012-03-29  2012-04-28 30 days 00:00:00                 48\n",
              "...          ...         ...         ...              ...                ...\n",
              "99995  KS_099995  2012-11-26  2012-12-26 30 days 00:00:00                 33\n",
              "99996  KS_099996  2013-04-04  2013-05-04 30 days 00:00:00                 42\n",
              "99997  KS_099997  2013-06-07  2013-07-13 36 days 16:30:40                 32\n",
              "99998  KS_099998  2013-07-11  2013-08-16 35 days 17:08:16                 49\n",
              "99999  KS_099999  2014-05-02  2014-05-30 28 days 03:46:27                 54\n",
              "\n",
              "[99748 rows x 5 columns]"
            ]
          },
          "execution_count": 147,
          "metadata": {},
          "output_type": "execute_result"
        }
      ],
      "source": [
        "# Count of same-day launches\n",
        "dateFrame = df[['project_id','launched_at', 'deadline', 'duration']]\n",
        "dateFrame['launched_at'] = dateFrame['launched_at'].dt.date\n",
        "dateFrame['deadline'] = dateFrame['deadline'].dt.date\n",
        "\n",
        "possibleDates = dateFrame['launched_at'].unique()\n",
        "dateFrame['same_day_projects'] = 0\n",
        "\n",
        "for date in possibleDates:\n",
        "\tsameDayProj = dateFrame.loc[dateFrame['launched_at']==date]\n",
        "\tdateFrame['same_day_projects'].loc[dateFrame['launched_at']==date] = len(sameDayProj)\n",
        "\n",
        "\n",
        "dateFrame"
      ]
    },
    {
      "cell_type": "code",
      "execution_count": 134,
      "metadata": {},
      "outputs": [
        {
          "name": "stdout",
          "output_type": "stream",
          "text": [
            "      project_id launched_at    deadline         duration  same_time\n",
            "0      KS_000000  2012-03-28  2012-04-19 21 days 23:01:40          0\n",
            "1      KS_000001  2012-03-29  2012-05-08 40 days 00:00:00          0\n",
            "2      KS_000002  2012-03-29  2012-05-28 60 days 00:00:00          0\n",
            "3      KS_000003  2012-03-29  2012-04-19 21 days 00:00:00          0\n",
            "4      KS_000004  2012-03-29  2012-04-28 30 days 00:00:00          0\n",
            "...          ...         ...         ...              ...        ...\n",
            "99995  KS_099995  2012-11-26  2012-12-26 30 days 00:00:00          0\n",
            "99996  KS_099996  2013-04-04  2013-05-04 30 days 00:00:00          0\n",
            "99997  KS_099997  2013-06-07  2013-07-13 36 days 16:30:40          0\n",
            "99998  KS_099998  2013-07-11  2013-08-16 35 days 17:08:16          0\n",
            "99999  KS_099999  2014-05-02  2014-05-30 28 days 03:46:27          0\n",
            "\n",
            "[99748 rows x 5 columns]\n"
          ]
        },
        {
          "name": "stderr",
          "output_type": "stream",
          "text": [
            "<ipython-input-134-38e5fc9e5fd3>:5: SettingWithCopyWarning: \n",
            "A value is trying to be set on a copy of a slice from a DataFrame.\n",
            "Try using .loc[row_indexer,col_indexer] = value instead\n",
            "\n",
            "See the caveats in the documentation: https://pandas.pydata.org/pandas-docs/stable/user_guide/indexing.html#returning-a-view-versus-a-copy\n",
            "  dateFrame['same_time'] = np.count_nonzero( (datafram2['project_id'].all() != dateFrame['project_id'].all()) and\n"
          ]
        }
      ],
      "source": [
        "# Count of same time projects\n",
        "\n",
        "datafram2 = pd.DataFrame(data dateFrame)\n",
        "\n",
        "dateFrame['same_time'] = launched_at\n",
        "\n",
        "'''np.count_nonzero( (datafram2['project_id'].all() != dateFrame['project_id'].all()) and\n",
        "(dateFrame['launched_at'].all() <= datafram2['deadline'].all() and dateFrame['deadline'].all() >=datafram2['launched_at'].all())) \n",
        "'''\n",
        "\n",
        "print(dateFrame)\n",
        "h\n",
        "#for i in range(100000):\n"
      ]
    },
    {
      "cell_type": "code",
      "execution_count": null,
      "metadata": {},
      "outputs": [],
      "source": [
        "a"
      ]
    },
    {
      "cell_type": "markdown",
      "metadata": {
        "id": "NLYAxgI5Gyof"
      },
      "source": []
    },
    {
      "cell_type": "markdown",
      "metadata": {
        "id": "rMwRAlIURdrr"
      },
      "source": [
        "references data \n",
        "\n",
        "https://github.com/mkucz95/kickstarter_data/blob/master/kickstarter_data.ipynb\n",
        "\n",
        "https://medium.com/swlh/kickstarter-projects-do-they-succeed-f4a789010585\n",
        "\n",
        "https://towardsdatascience.com/kickstarter-projects-walk-through-simple-data-exploration-in-python-c2302a997789\n",
        "\n",
        "https://towardsdatascience.com/using-machine-learning-to-predict-kickstarter-success-e371ab56a743"
      ]
    },
    {
      "cell_type": "code",
      "execution_count": null,
      "metadata": {
        "id": "rkcHYVkzKd8b"
      },
      "outputs": [],
      "source": []
    }
  ],
  "metadata": {
    "colab": {
      "collapsed_sections": [
        "RPKA0pDhJ695",
        "ITnogfN0FpCE",
        "3X-rZMV1F4Xf",
        "q-7RR9GvGu6X"
      ],
      "name": "kickstarter-project.ipynb",
      "provenance": [],
      "toc_visible": true
    },
    "interpreter": {
      "hash": "d15ef4a0ce9ff91e26ac205e9f62a732280b198c11e0b20c6ee892552992b6f2"
    },
    "kernelspec": {
      "display_name": "Python 3.9.1 64-bit ('3.9.1': pyenv)",
      "name": "python3"
    },
    "language_info": {
      "codemirror_mode": {
        "name": "ipython",
        "version": 3
      },
      "file_extension": ".py",
      "mimetype": "text/x-python",
      "name": "python",
      "nbconvert_exporter": "python",
      "pygments_lexer": "ipython3",
      "version": "3.9.1"
    }
  },
  "nbformat": 4,
  "nbformat_minor": 0
}
