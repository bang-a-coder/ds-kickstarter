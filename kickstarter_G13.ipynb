{
 "cells": [
  {
   "cell_type": "code",
   "execution_count": 94,
   "metadata": {},
   "outputs": [],
   "source": [
    "import pandas as pd\n",
    "import seaborn as sns\n",
    "import matplotlib as plt\n",
    "import matplotlib.pyplot as plt\n",
    "from scipy.stats import norm\n",
    "from scipy import stats\n",
    "import numpy as np\n",
    "\n",
    "\n"
   ]
  },
  {
   "cell_type": "code",
   "execution_count": 95,
   "metadata": {},
   "outputs": [
    {
     "data": {
      "text/html": [
       "<div>\n",
       "<style scoped>\n",
       "    .dataframe tbody tr th:only-of-type {\n",
       "        vertical-align: middle;\n",
       "    }\n",
       "\n",
       "    .dataframe tbody tr th {\n",
       "        vertical-align: top;\n",
       "    }\n",
       "\n",
       "    .dataframe thead th {\n",
       "        text-align: right;\n",
       "    }\n",
       "</style>\n",
       "<table border=\"1\" class=\"dataframe\">\n",
       "  <thead>\n",
       "    <tr style=\"text-align: right;\">\n",
       "      <th></th>\n",
       "      <th>project_id</th>\n",
       "      <th>backers_count</th>\n",
       "      <th>blurb</th>\n",
       "      <th>category</th>\n",
       "      <th>converted_pledged_amount</th>\n",
       "      <th>country</th>\n",
       "      <th>created_at</th>\n",
       "      <th>currency</th>\n",
       "      <th>deadline</th>\n",
       "      <th>fx_rate</th>\n",
       "      <th>...</th>\n",
       "      <th>launched_at</th>\n",
       "      <th>name</th>\n",
       "      <th>pledged</th>\n",
       "      <th>staff_pick</th>\n",
       "      <th>usd_pledged</th>\n",
       "      <th>location</th>\n",
       "      <th>funded</th>\n",
       "      <th>subcategory</th>\n",
       "      <th>project_url</th>\n",
       "      <th>reward_url</th>\n",
       "    </tr>\n",
       "  </thead>\n",
       "  <tbody>\n",
       "    <tr>\n",
       "      <th>0</th>\n",
       "      <td>KS_000000</td>\n",
       "      <td>80</td>\n",
       "      <td>I will be an artist-in-residence at Elsewhere ...</td>\n",
       "      <td>art</td>\n",
       "      <td>3596</td>\n",
       "      <td>US</td>\n",
       "      <td>1325980505</td>\n",
       "      <td>USD</td>\n",
       "      <td>1334866560</td>\n",
       "      <td>1.000000</td>\n",
       "      <td>...</td>\n",
       "      <td>1332969260</td>\n",
       "      <td>Elsewhere Studios artist-in-residency program!</td>\n",
       "      <td>3596.00</td>\n",
       "      <td>False</td>\n",
       "      <td>3596.000000</td>\n",
       "      <td>Paonia, CO</td>\n",
       "      <td>True</td>\n",
       "      <td>mixed media</td>\n",
       "      <td>https://www.kickstarter.com/projects/hilaryeme...</td>\n",
       "      <td>https://www.kickstarter.com/projects/hilaryeme...</td>\n",
       "    </tr>\n",
       "    <tr>\n",
       "      <th>1</th>\n",
       "      <td>KS_000001</td>\n",
       "      <td>82</td>\n",
       "      <td>1000 Artists is a public art-making installati...</td>\n",
       "      <td>art</td>\n",
       "      <td>4586</td>\n",
       "      <td>US</td>\n",
       "      <td>1330926084</td>\n",
       "      <td>USD</td>\n",
       "      <td>1336440145</td>\n",
       "      <td>1.000000</td>\n",
       "      <td>...</td>\n",
       "      <td>1332984145</td>\n",
       "      <td>1000 Artists: Presidential Inauguration 2013</td>\n",
       "      <td>4586.00</td>\n",
       "      <td>False</td>\n",
       "      <td>4586.000000</td>\n",
       "      <td>Washington, DC</td>\n",
       "      <td>True</td>\n",
       "      <td>public art</td>\n",
       "      <td>https://www.kickstarter.com/projects/17146650/...</td>\n",
       "      <td>https://www.kickstarter.com/projects/17146650/...</td>\n",
       "    </tr>\n",
       "    <tr>\n",
       "      <th>2</th>\n",
       "      <td>KS_000002</td>\n",
       "      <td>21</td>\n",
       "      <td>The Sequel to ‘My Favorite Machine”, \"MyPhoneH...</td>\n",
       "      <td>art</td>\n",
       "      <td>5217</td>\n",
       "      <td>US</td>\n",
       "      <td>1332382894</td>\n",
       "      <td>USD</td>\n",
       "      <td>1338175739</td>\n",
       "      <td>1.000000</td>\n",
       "      <td>...</td>\n",
       "      <td>1332991739</td>\n",
       "      <td>MyPhoneHenge</td>\n",
       "      <td>5217.00</td>\n",
       "      <td>False</td>\n",
       "      <td>5217.000000</td>\n",
       "      <td>Frisco, TX</td>\n",
       "      <td>True</td>\n",
       "      <td>sculpture</td>\n",
       "      <td>https://www.kickstarter.com/projects/belveal/m...</td>\n",
       "      <td>https://www.kickstarter.com/projects/belveal/m...</td>\n",
       "    </tr>\n",
       "    <tr>\n",
       "      <th>3</th>\n",
       "      <td>KS_000003</td>\n",
       "      <td>37</td>\n",
       "      <td>A film exploring the role and value of art edu...</td>\n",
       "      <td>art</td>\n",
       "      <td>7160</td>\n",
       "      <td>GB</td>\n",
       "      <td>1332342451</td>\n",
       "      <td>USD</td>\n",
       "      <td>1334806096</td>\n",
       "      <td>1.000000</td>\n",
       "      <td>...</td>\n",
       "      <td>1332991696</td>\n",
       "      <td>Walk-Through</td>\n",
       "      <td>7160.00</td>\n",
       "      <td>False</td>\n",
       "      <td>7160.000000</td>\n",
       "      <td>Glasgow, UK</td>\n",
       "      <td>True</td>\n",
       "      <td>art</td>\n",
       "      <td>https://www.kickstarter.com/projects/107813091...</td>\n",
       "      <td>https://www.kickstarter.com/projects/107813091...</td>\n",
       "    </tr>\n",
       "    <tr>\n",
       "      <th>4</th>\n",
       "      <td>KS_000004</td>\n",
       "      <td>153</td>\n",
       "      <td>We need to build a kitchen for Habitable Space...</td>\n",
       "      <td>art</td>\n",
       "      <td>15445</td>\n",
       "      <td>US</td>\n",
       "      <td>1328562617</td>\n",
       "      <td>USD</td>\n",
       "      <td>1335584240</td>\n",
       "      <td>1.000000</td>\n",
       "      <td>...</td>\n",
       "      <td>1332992240</td>\n",
       "      <td>A kitchen for Habitable Spaces</td>\n",
       "      <td>15445.00</td>\n",
       "      <td>False</td>\n",
       "      <td>15445.000000</td>\n",
       "      <td>Kingsbury, TX</td>\n",
       "      <td>True</td>\n",
       "      <td>public art</td>\n",
       "      <td>https://www.kickstarter.com/projects/104409276...</td>\n",
       "      <td>https://www.kickstarter.com/projects/104409276...</td>\n",
       "    </tr>\n",
       "    <tr>\n",
       "      <th>...</th>\n",
       "      <td>...</td>\n",
       "      <td>...</td>\n",
       "      <td>...</td>\n",
       "      <td>...</td>\n",
       "      <td>...</td>\n",
       "      <td>...</td>\n",
       "      <td>...</td>\n",
       "      <td>...</td>\n",
       "      <td>...</td>\n",
       "      <td>...</td>\n",
       "      <td>...</td>\n",
       "      <td>...</td>\n",
       "      <td>...</td>\n",
       "      <td>...</td>\n",
       "      <td>...</td>\n",
       "      <td>...</td>\n",
       "      <td>...</td>\n",
       "      <td>...</td>\n",
       "      <td>...</td>\n",
       "      <td>...</td>\n",
       "      <td>...</td>\n",
       "    </tr>\n",
       "    <tr>\n",
       "      <th>99995</th>\n",
       "      <td>KS_099995</td>\n",
       "      <td>104</td>\n",
       "      <td>Make the workshop/ small stage space at Jimmy'...</td>\n",
       "      <td>theater</td>\n",
       "      <td>7595</td>\n",
       "      <td>US</td>\n",
       "      <td>1348677893</td>\n",
       "      <td>USD</td>\n",
       "      <td>1356552252</td>\n",
       "      <td>1.000000</td>\n",
       "      <td>...</td>\n",
       "      <td>1353960252</td>\n",
       "      <td>Help Fund the \"Back Room\" Arts Space at Jimmy'...</td>\n",
       "      <td>7595.43</td>\n",
       "      <td>False</td>\n",
       "      <td>7595.430000</td>\n",
       "      <td>New York, NY</td>\n",
       "      <td>True</td>\n",
       "      <td>spaces</td>\n",
       "      <td>https://www.kickstarter.com/projects/jimmycarb...</td>\n",
       "      <td>https://www.kickstarter.com/projects/jimmycarb...</td>\n",
       "    </tr>\n",
       "    <tr>\n",
       "      <th>99996</th>\n",
       "      <td>KS_099996</td>\n",
       "      <td>307</td>\n",
       "      <td>Help create a permanent home for live comedy s...</td>\n",
       "      <td>theater</td>\n",
       "      <td>27196</td>\n",
       "      <td>US</td>\n",
       "      <td>1364939099</td>\n",
       "      <td>USD</td>\n",
       "      <td>1367674009</td>\n",
       "      <td>1.000000</td>\n",
       "      <td>...</td>\n",
       "      <td>1365082009</td>\n",
       "      <td>The Coalition Theater</td>\n",
       "      <td>27196.71</td>\n",
       "      <td>False</td>\n",
       "      <td>27196.710000</td>\n",
       "      <td>Richmond, VA</td>\n",
       "      <td>True</td>\n",
       "      <td>spaces</td>\n",
       "      <td>https://www.kickstarter.com/projects/rvacomedy...</td>\n",
       "      <td>https://www.kickstarter.com/projects/rvacomedy...</td>\n",
       "    </tr>\n",
       "    <tr>\n",
       "      <th>99997</th>\n",
       "      <td>KS_099997</td>\n",
       "      <td>143</td>\n",
       "      <td>Voix de Ville is a pop-up imaginarium of neo-v...</td>\n",
       "      <td>theater</td>\n",
       "      <td>7226</td>\n",
       "      <td>US</td>\n",
       "      <td>1366078694</td>\n",
       "      <td>USD</td>\n",
       "      <td>1373738400</td>\n",
       "      <td>1.000000</td>\n",
       "      <td>...</td>\n",
       "      <td>1370568560</td>\n",
       "      <td>The Voix De Ville! : A Pop-up Theater and Cabaret</td>\n",
       "      <td>7226.00</td>\n",
       "      <td>True</td>\n",
       "      <td>7226.000000</td>\n",
       "      <td>Cleveland, OH</td>\n",
       "      <td>True</td>\n",
       "      <td>spaces</td>\n",
       "      <td>https://www.kickstarter.com/projects/160171209...</td>\n",
       "      <td>https://www.kickstarter.com/projects/160171209...</td>\n",
       "    </tr>\n",
       "    <tr>\n",
       "      <th>99998</th>\n",
       "      <td>KS_099998</td>\n",
       "      <td>329</td>\n",
       "      <td>Help Synetic Theater create a new Studio to pr...</td>\n",
       "      <td>theater</td>\n",
       "      <td>31683</td>\n",
       "      <td>US</td>\n",
       "      <td>1372177000</td>\n",
       "      <td>USD</td>\n",
       "      <td>1376654340</td>\n",
       "      <td>1.000000</td>\n",
       "      <td>...</td>\n",
       "      <td>1373568644</td>\n",
       "      <td>Save the Studio!</td>\n",
       "      <td>31683.00</td>\n",
       "      <td>False</td>\n",
       "      <td>31683.000000</td>\n",
       "      <td>Arlington, VA</td>\n",
       "      <td>True</td>\n",
       "      <td>spaces</td>\n",
       "      <td>https://www.kickstarter.com/projects/967829854...</td>\n",
       "      <td>https://www.kickstarter.com/projects/967829854...</td>\n",
       "    </tr>\n",
       "    <tr>\n",
       "      <th>99999</th>\n",
       "      <td>KS_099999</td>\n",
       "      <td>145</td>\n",
       "      <td>Be part of building Cardiff's first pub theatr...</td>\n",
       "      <td>theater</td>\n",
       "      <td>12639</td>\n",
       "      <td>GB</td>\n",
       "      <td>1398597170</td>\n",
       "      <td>GBP</td>\n",
       "      <td>1401465600</td>\n",
       "      <td>1.389543</td>\n",
       "      <td>...</td>\n",
       "      <td>1399032813</td>\n",
       "      <td>The Other Room – Cardiff’s First Pub Theatre</td>\n",
       "      <td>7555.00</td>\n",
       "      <td>False</td>\n",
       "      <td>12753.401034</td>\n",
       "      <td>Cardiff, UK</td>\n",
       "      <td>True</td>\n",
       "      <td>spaces</td>\n",
       "      <td>https://www.kickstarter.com/projects/159603433...</td>\n",
       "      <td>https://www.kickstarter.com/projects/159603433...</td>\n",
       "    </tr>\n",
       "  </tbody>\n",
       "</table>\n",
       "<p>100000 rows × 21 columns</p>\n",
       "</div>"
      ],
      "text/plain": [
       "      project_id  backers_count  \\\n",
       "0      KS_000000             80   \n",
       "1      KS_000001             82   \n",
       "2      KS_000002             21   \n",
       "3      KS_000003             37   \n",
       "4      KS_000004            153   \n",
       "...          ...            ...   \n",
       "99995  KS_099995            104   \n",
       "99996  KS_099996            307   \n",
       "99997  KS_099997            143   \n",
       "99998  KS_099998            329   \n",
       "99999  KS_099999            145   \n",
       "\n",
       "                                                   blurb category  \\\n",
       "0      I will be an artist-in-residence at Elsewhere ...      art   \n",
       "1      1000 Artists is a public art-making installati...      art   \n",
       "2      The Sequel to ‘My Favorite Machine”, \"MyPhoneH...      art   \n",
       "3      A film exploring the role and value of art edu...      art   \n",
       "4      We need to build a kitchen for Habitable Space...      art   \n",
       "...                                                  ...      ...   \n",
       "99995  Make the workshop/ small stage space at Jimmy'...  theater   \n",
       "99996  Help create a permanent home for live comedy s...  theater   \n",
       "99997  Voix de Ville is a pop-up imaginarium of neo-v...  theater   \n",
       "99998  Help Synetic Theater create a new Studio to pr...  theater   \n",
       "99999  Be part of building Cardiff's first pub theatr...  theater   \n",
       "\n",
       "       converted_pledged_amount country  created_at currency    deadline  \\\n",
       "0                          3596      US  1325980505      USD  1334866560   \n",
       "1                          4586      US  1330926084      USD  1336440145   \n",
       "2                          5217      US  1332382894      USD  1338175739   \n",
       "3                          7160      GB  1332342451      USD  1334806096   \n",
       "4                         15445      US  1328562617      USD  1335584240   \n",
       "...                         ...     ...         ...      ...         ...   \n",
       "99995                      7595      US  1348677893      USD  1356552252   \n",
       "99996                     27196      US  1364939099      USD  1367674009   \n",
       "99997                      7226      US  1366078694      USD  1373738400   \n",
       "99998                     31683      US  1372177000      USD  1376654340   \n",
       "99999                     12639      GB  1398597170      GBP  1401465600   \n",
       "\n",
       "        fx_rate  ...  launched_at  \\\n",
       "0      1.000000  ...   1332969260   \n",
       "1      1.000000  ...   1332984145   \n",
       "2      1.000000  ...   1332991739   \n",
       "3      1.000000  ...   1332991696   \n",
       "4      1.000000  ...   1332992240   \n",
       "...         ...  ...          ...   \n",
       "99995  1.000000  ...   1353960252   \n",
       "99996  1.000000  ...   1365082009   \n",
       "99997  1.000000  ...   1370568560   \n",
       "99998  1.000000  ...   1373568644   \n",
       "99999  1.389543  ...   1399032813   \n",
       "\n",
       "                                                    name   pledged  \\\n",
       "0         Elsewhere Studios artist-in-residency program!   3596.00   \n",
       "1           1000 Artists: Presidential Inauguration 2013   4586.00   \n",
       "2                                           MyPhoneHenge   5217.00   \n",
       "3                                           Walk-Through   7160.00   \n",
       "4                         A kitchen for Habitable Spaces  15445.00   \n",
       "...                                                  ...       ...   \n",
       "99995  Help Fund the \"Back Room\" Arts Space at Jimmy'...   7595.43   \n",
       "99996                              The Coalition Theater  27196.71   \n",
       "99997  The Voix De Ville! : A Pop-up Theater and Cabaret   7226.00   \n",
       "99998                                   Save the Studio!  31683.00   \n",
       "99999       The Other Room – Cardiff’s First Pub Theatre   7555.00   \n",
       "\n",
       "       staff_pick   usd_pledged        location funded  subcategory  \\\n",
       "0           False   3596.000000      Paonia, CO   True  mixed media   \n",
       "1           False   4586.000000  Washington, DC   True   public art   \n",
       "2           False   5217.000000      Frisco, TX   True    sculpture   \n",
       "3           False   7160.000000     Glasgow, UK   True          art   \n",
       "4           False  15445.000000   Kingsbury, TX   True   public art   \n",
       "...           ...           ...             ...    ...          ...   \n",
       "99995       False   7595.430000    New York, NY   True       spaces   \n",
       "99996       False  27196.710000    Richmond, VA   True       spaces   \n",
       "99997        True   7226.000000   Cleveland, OH   True       spaces   \n",
       "99998       False  31683.000000   Arlington, VA   True       spaces   \n",
       "99999       False  12753.401034     Cardiff, UK   True       spaces   \n",
       "\n",
       "                                             project_url  \\\n",
       "0      https://www.kickstarter.com/projects/hilaryeme...   \n",
       "1      https://www.kickstarter.com/projects/17146650/...   \n",
       "2      https://www.kickstarter.com/projects/belveal/m...   \n",
       "3      https://www.kickstarter.com/projects/107813091...   \n",
       "4      https://www.kickstarter.com/projects/104409276...   \n",
       "...                                                  ...   \n",
       "99995  https://www.kickstarter.com/projects/jimmycarb...   \n",
       "99996  https://www.kickstarter.com/projects/rvacomedy...   \n",
       "99997  https://www.kickstarter.com/projects/160171209...   \n",
       "99998  https://www.kickstarter.com/projects/967829854...   \n",
       "99999  https://www.kickstarter.com/projects/159603433...   \n",
       "\n",
       "                                              reward_url  \n",
       "0      https://www.kickstarter.com/projects/hilaryeme...  \n",
       "1      https://www.kickstarter.com/projects/17146650/...  \n",
       "2      https://www.kickstarter.com/projects/belveal/m...  \n",
       "3      https://www.kickstarter.com/projects/107813091...  \n",
       "4      https://www.kickstarter.com/projects/104409276...  \n",
       "...                                                  ...  \n",
       "99995  https://www.kickstarter.com/projects/jimmycarb...  \n",
       "99996  https://www.kickstarter.com/projects/rvacomedy...  \n",
       "99997  https://www.kickstarter.com/projects/160171209...  \n",
       "99998  https://www.kickstarter.com/projects/967829854...  \n",
       "99999  https://www.kickstarter.com/projects/159603433...  \n",
       "\n",
       "[100000 rows x 21 columns]"
      ]
     },
     "execution_count": 95,
     "metadata": {},
     "output_type": "execute_result"
    }
   ],
   "source": [
    "df = pd.read_csv('KS_train_data.csv', delimiter=',', error_bad_lines=False)\n",
    "df"
   ]
  },
  {
   "cell_type": "markdown",
   "metadata": {},
   "source": [
    "# Data Expolation & Understanding"
   ]
  },
  {
   "cell_type": "markdown",
   "metadata": {},
   "source": [
    "## Wrangling"
   ]
  },
  {
   "cell_type": "markdown",
   "metadata": {},
   "source": [
    "### Structure:\n",
    "\n",
    "**Does it have the right structure for the purpose? (can we give them an .xmml?)**\n",
    "\n",
    "The train data consist of 10,000 project considering 19 variable, such as date event created, deadline,goal of the project. In my opnion, this is already a structured data, because we can find the framework of each project directly. Therefore, the data can be putted in xml file because they are already good structured. \n",
    "\n",
    "\n",
    "**Is the data structured by record?** \n",
    "\n",
    "Comparing this data with the Train data. Test data is merely dominated with categorial informattion comparing to numerical information. However, it is still well-structured, but less structured than Train data. \n",
    "\n",
    "**What are the record delimiters?**\n",
    "\n",
    "Also, both data are fixed filled in the file. This can be seen by both data are despicted in rows and columns which then can be viewed into pre-defined data. This is clearly the indication of structured data. Nevertheless, the Delimiter is the ',' which indicates the separation of rows and columns. \n",
    "\n",
    "**What are the field delimiters?**\n",
    "\n",
    "Looking at the CSV file, we can see that the field delimiters are regular commas\n",
    "\n",
    "**There are no column headlings**\n",
    "\n",
    "Are there column headlings?\n",
    "\n",
    "\n",
    "\n",
    "Granularity:\n",
    "**Do you think the granularity is good enough for the purpose? (of this and that column)**\n",
    "I believe it is slightly coarse and has some missing entries that might effect the success of the project in addition the reward column is too wide for it to have an effect\n",
    "\n",
    "**2. Do all records represents reality at the same granularity?**\n",
    "Yes\n",
    "\n",
    "\n",
    "Accuracy:\n",
    "**Can we check the validity of certain fields, such as e-mails, credit cards nr?** \n",
    "\n",
    "We can just by going to the url and comparing the data to the one we have even though it cannot be efficently done\n"
   ]
  },
  {
   "cell_type": "markdown",
   "metadata": {},
   "source": [
    "## Correlations"
   ]
  },
  {
   "cell_type": "code",
   "execution_count": 96,
   "metadata": {},
   "outputs": [
    {
     "data": {
      "text/plain": [
       "<AxesSubplot:>"
      ]
     },
     "execution_count": 96,
     "metadata": {},
     "output_type": "execute_result"
    },
    {
     "data": {
      "image/png": "[encoded data removed]",
      "text/plain": [
       "<Figure size 1080x576 with 2 Axes>"
      ]
     },
     "metadata": {},
     "output_type": "display_data"
    }
   ],
   "source": [
    "correlations = df.corr()\n",
    "sns.set(rc = {'figure.figsize':(15,8)})\n",
    "\n",
    "sns.heatmap(correlations, annot=True, linewidths=0.5)"
   ]
  },
  {
   "cell_type": "markdown",
   "metadata": {},
   "source": [
    "## Outliers"
   ]
  },
  {
   "cell_type": "markdown",
   "metadata": {},
   "source": [
    "sns.distplot(df['goal'])"
   ]
  },
  {
   "cell_type": "code",
   "execution_count": 97,
   "metadata": {},
   "outputs": [
    {
     "name": "stderr",
     "output_type": "stream",
     "text": [
      "*c* argument looks like a single numeric RGB or RGBA sequence, which should be avoided as value-mapping will have precedence in case its length matches with *x* & *y*.  Please use the *color* keyword-argument or provide a 2-D array with a single row if you intend to specify the same RGB or RGBA value for all points.\n"
     ]
    },
    {
     "data": {
      "image/png": "[encoded data removed]",
      "text/plain": [
       "<Figure size 1080x576 with 1 Axes>"
      ]
     },
     "metadata": {},
     "output_type": "display_data"
    }
   ],
   "source": [
    "plot = df.plot.scatter(y='backers_count', x='goal')\n",
    "plot.ticklabel_format(style='plain', useOffset=False)"
   ]
  },
  {
   "cell_type": "markdown",
   "metadata": {},
   "source": [
    "We consider outliers the projects that have a goal > 1000000"
   ]
  },
  {
   "cell_type": "code",
   "execution_count": 98,
   "metadata": {},
   "outputs": [
    {
     "name": "stderr",
     "output_type": "stream",
     "text": [
      "*c* argument looks like a single numeric RGB or RGBA sequence, which should be avoided as value-mapping will have precedence in case its length matches with *x* & *y*.  Please use the *color* keyword-argument or provide a 2-D array with a single row if you intend to specify the same RGB or RGBA value for all points.\n"
     ]
    },
    {
     "data": {
      "image/png": "[encoded data removed]",
      "text/plain": [
       "<Figure size 1080x576 with 1 Axes>"
      ]
     },
     "metadata": {},
     "output_type": "display_data"
    }
   ],
   "source": [
    "df = df.drop(df.loc[df['goal']>1000000].index) #delete outliers\n",
    "plot = df.plot.scatter(y='backers_count', x='goal')\n",
    "plot.ticklabel_format(style='plain', useOffset=False)"
   ]
  },
  {
   "cell_type": "markdown",
   "metadata": {},
   "source": [
    "## Missing Values"
   ]
  },
  {
   "cell_type": "markdown",
   "metadata": {},
   "source": [
    "df.isnull().sum()"
   ]
  },
  {
   "cell_type": "markdown",
   "metadata": {},
   "source": [
    "We see very few null values in the data. So we're going to manually visit the project pages and get the value (blurb, country, name) ourselves."
   ]
  },
  {
   "cell_type": "code",
   "execution_count": 99,
   "metadata": {},
   "outputs": [
    {
     "data": {
      "text/plain": [
       "project_id                  0\n",
       "backers_count               0\n",
       "blurb                       0\n",
       "category                    0\n",
       "converted_pledged_amount    0\n",
       "country                     0\n",
       "created_at                  0\n",
       "currency                    0\n",
       "deadline                    0\n",
       "fx_rate                     0\n",
       "goal                        0\n",
       "launched_at                 0\n",
       "name                        0\n",
       "pledged                     0\n",
       "staff_pick                  0\n",
       "usd_pledged                 0\n",
       "location                    0\n",
       "funded                      0\n",
       "subcategory                 0\n",
       "project_url                 0\n",
       "reward_url                  0\n",
       "dtype: int64"
      ]
     },
     "execution_count": 99,
     "metadata": {},
     "output_type": "execute_result"
    }
   ],
   "source": [
    "df.iat[1857, 5] = 'NA' #Namibia\n",
    "df.at[46838, 'country'] = 'NA'\n",
    "df.at[56883, 'country'] = 'NA'\n",
    "\n",
    "df = df.drop(df.loc[df['blurb'].isnull()].index) #remove items that have no blurb\n",
    "df = df.drop(df.loc[df['country'].isnull()==True].index) #remove items that have no blurb\n",
    "\n",
    "df.isnull().sum()"
   ]
  },
  {
   "cell_type": "markdown",
   "metadata": {},
   "source": [
    "## Normality"
   ]
  },
  {
   "cell_type": "markdown",
   "metadata": {},
   "source": [
    "stats.probplot(df['goal'], plot=plt, dist='norm')"
   ]
  },
  {
   "cell_type": "code",
   "execution_count": 100,
   "metadata": {},
   "outputs": [],
   "source": [
    "df2=df.copy()\n",
    "\n",
    "df2=df2.drop(['project_id','blurb','category','country','currency','name','created_at','deadline','launched_at','staff_pick','location','funded','subcategory', 'project_url', 'reward_url'],axis=1)\n",
    "# df2=df2.set_index('project_id')\n",
    "df2=df2.apply(pd.to_numeric)\n",
    "df2= np.log10(df2)\n",
    "df2 = df2.rename(columns={'backers_count': 'backers_count_log', 'converted_pledged_amount': 'converted_pledged_amount_log','fx_rate': 'fx_rate_log','goal': 'goal_log','pledged': 'pledged_log','usd_pledged': 'usd_pledged_log'})\n",
    "\n",
    "# df=df.set_index('project_id')\n",
    "df = df.merge(df2, left_index=True, how='inner',right_index=True)"
   ]
  },
  {
   "cell_type": "markdown",
   "metadata": {},
   "source": [
    "# Data Prep"
   ]
  },
  {
   "cell_type": "code",
   "execution_count": 101,
   "metadata": {},
   "outputs": [],
   "source": [
    "# ONLY NEEDED FOR TEST SET\n",
    "def prepareDataframe(dataframe):\n",
    "\t#remove items that have no blurb\n",
    "\tdataframe['blurb'].fillna('none')\n",
    "\n",
    "\t#normalise goal and fx_rate\n",
    "\tdataframe['goal_log'] = np.log10(dataframe['goal'])\n",
    "\tdataframe['fx_rate_log'] = np.log10(dataframe['fx_rate'])\n",
    "\n",
    "\treturn dataframe\n",
    "\n",
    "\t\n",
    "\n",
    "\n",
    "# AFTER FEATURE Derivation\n",
    "def encodeVariables(dataframe): #Encodes categoricals and converts datetimes to int\n",
    "\tcat_encode(['category', 'country', 'subcategory', 'currency', 'location'],dataframe)\n",
    "\n",
    "\trevertDatetime(['created_at', 'deadline', 'launched_at'],dataframe)\n",
    "\n",
    "\tdataframe['duration'] = dataframe['duration'].dt.days\t\n",
    "\n",
    "\n",
    "def dropNonNumerical(dataframe):\n",
    "\t#drop non-numerical features\n",
    "\tdataframe = dataframe.drop(['project_id', 'blurb', 'name', 'reward_url', 'project_url', 'goal', 'fx_rate'], axis=1)\n",
    "\n",
    "\n",
    "\n",
    "\n",
    "\n",
    "#helpers\n",
    "def revertDatetime(keys, df):\n",
    "\tfor key in keys:\n",
    "\t\tdf[key] = pd.to_datetime(df[key]).astype(int)\n",
    "\n",
    "\n",
    "# Encode categorical variables\n",
    "def cat_encode(keys, df):\n",
    "\tfor key in keys:\n",
    "\t\tdf[key] = df[key].astype('category').cat.codes"
   ]
  },
  {
   "cell_type": "markdown",
   "metadata": {},
   "source": [
    "# Feature Derivation"
   ]
  },
  {
   "cell_type": "code",
   "execution_count": 102,
   "metadata": {},
   "outputs": [],
   "source": [
    "def deriveFeatures(dataframe): # Call this to derive features :)\n",
    "\t#convert dates to datetime format\n",
    "\tdataframe[['created_at', 'deadline', 'launched_at']] = dataframe[['created_at', 'deadline', 'launched_at']].apply(pd.to_datetime,unit='s')\n",
    "\n",
    "\t#derive duration\n",
    "\tdataframe['duration'] = (dataframe['deadline'] - dataframe['launched_at'])\n",
    "\n",
    "\t#derive word count for name & blurb\n",
    "\tdataframe['word_count'] = get_word_count(dataframe['blurb'])\n",
    "\tdataframe['name_count'] = get_word_count(dataframe['name'])\t\n",
    "\n",
    "\t#calculate same day launches\n",
    "\tget_same_day_launced(dataframe)\n",
    "\n",
    "\t#get readablity of name and blurb\n",
    "\t# get_readablity(dataframe)\n",
    "\n",
    "\n",
    "\n",
    "def get_word_count(blurb_list):\n",
    "    word_list =[]\n",
    "    for blurb_index in blurb_list:\n",
    "        word_list.append(len(str(blurb_index).split()))\n",
    "    return word_list\n",
    "\n",
    "\n",
    "def get_same_day_launced(dataframe): #calculate how many prjects were launched on the same day\n",
    "\tfor key in ['launched_at', 'created_at', 'deadline']: \n",
    "\t\tdataframe[key] = dataframe[key].dt.date\n",
    "\t\n",
    "\tpossibleDates = dataframe['launched_at'].unique()\n",
    "\tdataframe['same_day_projects'] = 0\n",
    "\tfor date in possibleDates:\n",
    "\t\tsameDayProj = dataframe.loc[dataframe['launched_at']==date]\n",
    "\t\tdataframe['same_day_projects'].loc[dataframe['launched_at']==date] = len(sameDayProj)\t\n",
    "\n",
    "\n",
    "def get_readablity(dataframe): #TODO something doesn't work, it gives the same redablity to everything\n",
    "\timport textstat\n",
    "\tfrom textstat import flesch_reading_ease\n",
    "\n",
    "\t# for index, row in dataframe.iterrows():\n",
    "\t# \tt=row['blurb'];\n",
    "\t# \ttext=str(t)\n",
    "\n",
    "\tfor copy in ['blurb', 'name']:\n",
    "\t\tread = []\n",
    "\t\tfor i in dataframe[copy].head(10):\n",
    "\t\t\tprint(i)\n",
    "\t\t\t# read.append(textstat.flesch_reading_ease(str(i)))\n",
    "\t\t\tdataframe[copy+'_readability'] = textstat.flesch_reading_ease(str(i))\n"
   ]
  },
  {
   "cell_type": "markdown",
   "metadata": {},
   "source": [
    "# Modeling"
   ]
  },
  {
   "cell_type": "code",
   "execution_count": 103,
   "metadata": {},
   "outputs": [],
   "source": [
    "from sklearn.tree import DecisionTreeClassifier\n",
    "\n",
    "from sklearn.ensemble import BaggingClassifier\n",
    "from sklearn.model_selection import cross_val_score\n",
    "from sklearn.model_selection import validation_curve\n",
    "from sklearn.model_selection import train_test_split\n",
    "from sklearn.model_selection import learning_curve\n",
    "from sklearn.ensemble import RandomForestClassifier\n",
    "from sklearn.model_selection import GridSearchCV\n",
    "from sklearn.model_selection import RandomizedSearchCV\n",
    "import warnings\n",
    "from sklearn.exceptions import DataConversionWarning\n",
    "warnings.filterwarnings(action='ignore', category=DataConversionWarning)\n",
    "\n"
   ]
  },
  {
   "cell_type": "code",
   "execution_count": 104,
   "metadata": {},
   "outputs": [
    {
     "name": "stderr",
     "output_type": "stream",
     "text": [
      "/Users/nikitasfilosofof/.pyenv/versions/3.9.1/lib/python3.9/site-packages/pandas/core/indexing.py:1637: SettingWithCopyWarning: \n",
      "A value is trying to be set on a copy of a slice from a DataFrame\n",
      "\n",
      "See the caveats in the documentation: https://pandas.pydata.org/pandas-docs/stable/user_guide/indexing.html#returning-a-view-versus-a-copy\n",
      "  self._setitem_single_block(indexer, value, name)\n"
     ]
    }
   ],
   "source": [
    "deriveFeatures(df) # Derive features name-count, blurb-count, same-day-launched\n",
    "\n",
    "cleanDF = df.drop(['project_id', 'project_url', 'reward_url', 'fx_rate', #Remove features not present in the test set\n",
    "\t\t\t\t\t'goal','name', 'pledged', 'usd_pledged', 'backers_count', \n",
    "\t\t\t\t\t'blurb', 'converted_pledged_amount','converted_pledged_amount_log',\n",
    "\t\t\t\t\t'usd_pledged_log','backers_count_log','pledged_log' ], axis=1)\n",
    "\n",
    "encodeVariables(cleanDF) #Encode categoricals and convert datetimes to int"
   ]
  },
  {
   "cell_type": "code",
   "execution_count": 105,
   "metadata": {},
   "outputs": [],
   "source": [
    "trainDF = cleanDF.drop('funded', axis=1)\n",
    "\n",
    "target = df['funded']"
   ]
  },
  {
   "cell_type": "markdown",
   "metadata": {},
   "source": [
    "## Random Forest"
   ]
  },
  {
   "cell_type": "code",
   "execution_count": 106,
   "metadata": {},
   "outputs": [
    {
     "name": "stdout",
     "output_type": "stream",
     "text": [
      "60824.17844611529 0.7791478696741855\n"
     ]
    }
   ],
   "source": [
    "Xtrain, Xtest, ytrain, ytest = train_test_split(trainDF, target, test_size=0.3) # Train:Test = 70%:30%\n",
    "\n",
    "forest = RandomForestClassifier()\n",
    "\n",
    "\n",
    "forest.fit(Xtrain, ytrain)\n",
    "\n",
    "score = cross_val_score(forest, Xtest, ytest, cv=5).mean()\n",
    "\n",
    "print(score * 78065 , score)"
   ]
  },
  {
   "cell_type": "markdown",
   "metadata": {},
   "source": [
    "Accuracy 78.12%. Given the model with intuitivly selected hyperparameters, we estimate that it will classify approximately 60000 campaigs as True (funded)"
   ]
  },
  {
   "cell_type": "markdown",
   "metadata": {},
   "source": [
    "### Tuning"
   ]
  },
  {
   "cell_type": "code",
   "execution_count": 36,
   "metadata": {},
   "outputs": [
    {
     "name": "stdout",
     "output_type": "stream",
     "text": [
      "{'n_estimators': [10, 64, 118, 173, 227, 282, 336, 391, 445, 500], 'max_features': ['auto', 'sqrt'], 'max_depth': [10, 14, 18, 22, 26, 30, 34, 38, 42, 46, 50, None], 'min_samples_split': [2, 5, 10], 'min_samples_leaf': [1, 2, 4], 'bootstrap': [True, False]}\n"
     ]
    }
   ],
   "source": [
    "#Broad estimate using random search\n",
    "\n",
    "# Number of trees in random forest\n",
    "n_estimators = [int(x) for x in np.linspace(start = 10, stop = 500, num = 10)]\n",
    "# Number of features to consider at every split\n",
    "max_features = ['auto', 'sqrt']\n",
    "# Maximum number of levels in tree\n",
    "max_depth = [int(x) for x in np.linspace(10, 50, num = 11)]\n",
    "max_depth.append(None)\n",
    "# Minimum number of samples required to split a node\n",
    "min_samples_split = [2, 5, 10]\n",
    "# Minimum number of samples required at each leaf node\n",
    "min_samples_leaf = [1, 2, 4]\n",
    "# Method of selecting samples for training each tree\n",
    "bootstrap = [True, False]\n",
    "\n",
    "# Create the random grid\n",
    "random_grid = {'n_estimators': n_estimators,\n",
    "               'max_features': max_features,\n",
    "               'max_depth': max_depth,\n",
    "               'min_samples_split': min_samples_split,\n",
    "               'min_samples_leaf': min_samples_leaf,\n",
    "               'bootstrap': bootstrap}\n",
    "\n",
    "print(random_grid)\t"
   ]
  },
  {
   "cell_type": "code",
   "execution_count": null,
   "metadata": {},
   "outputs": [],
   "source": [
    "# Use the random grid to search for best hyperparameters\n",
    "# First create the base model to tune\n",
    "rf = RandomForestClassifier(random_state = 42)\n",
    "# Random search of parameters, using 3 fold cross validation, \n",
    "# search across 100 different combinations, and use all available cores\n",
    "rf_random = RandomizedSearchCV(estimator=rf, param_distributions=random_grid,\n",
    "                              n_iter = 20, scoring='neg_mean_absolute_error', \n",
    "                              cv = 3, verbose=2, random_state=42, n_jobs=-1,\n",
    "                              return_train_score=True)\n",
    "\n",
    "# Fit the random search model\n",
    "rf_random.fit(Xtrain, ytrain);"
   ]
  },
  {
   "cell_type": "code",
   "execution_count": 46,
   "metadata": {},
   "outputs": [
    {
     "data": {
      "text/plain": [
       "{'n_estimators': 10,\n",
       " 'min_samples_split': 10,\n",
       " 'min_samples_leaf': 2,\n",
       " 'max_features': 'sqrt',\n",
       " 'max_depth': 26,\n",
       " 'bootstrap': True}"
      ]
     },
     "execution_count": 46,
     "metadata": {},
     "output_type": "execute_result"
    }
   ],
   "source": [
    "rf_random.best_params_\n"
   ]
  },
  {
   "cell_type": "code",
   "execution_count": 47,
   "metadata": {},
   "outputs": [],
   "source": [
    "param_grid = {\n",
    "    'bootstrap': [True],\n",
    "    'max_depth': [20, 26, 30],\n",
    "    'max_features': [2, 3],\n",
    "    'min_samples_leaf': [2,3,4],\n",
    "    'min_samples_split': [8, 10, 12],\n",
    "    'n_estimators': [5, 10, 20]\n",
    "}\n",
    "\n",
    "# Create a base model\n",
    "rf = RandomForestClassifier(random_state = 42)\n",
    "\n",
    "# Instantiate the grid search model\n",
    "grid_search = GridSearchCV(estimator = rf, param_grid = param_grid, \n",
    "                          cv = 3, n_jobs = -1, verbose = 2, return_train_score=True)"
   ]
  },
  {
   "cell_type": "code",
   "execution_count": null,
   "metadata": {},
   "outputs": [],
   "source": [
    "grid_search.fit(Xtrain, ytrain);\n"
   ]
  },
  {
   "cell_type": "code",
   "execution_count": 49,
   "metadata": {},
   "outputs": [
    {
     "data": {
      "text/plain": [
       "{'bootstrap': True,\n",
       " 'max_depth': 26,\n",
       " 'max_features': 3,\n",
       " 'min_samples_leaf': 3,\n",
       " 'min_samples_split': 8,\n",
       " 'n_estimators': 20}"
      ]
     },
     "execution_count": 49,
     "metadata": {},
     "output_type": "execute_result"
    }
   ],
   "source": [
    "grid_search.best_params_"
   ]
  },
  {
   "cell_type": "code",
   "execution_count": 107,
   "metadata": {},
   "outputs": [
    {
     "name": "stdout",
     "output_type": "stream",
     "text": [
      "59986.789473684206 0.7684210526315789\n"
     ]
    }
   ],
   "source": [
    "forest = RandomForestClassifier(bootstrap=True, max_depth= 26, max_features=3, min_samples_leaf=3, min_samples_split=8,n_estimators=20)\n",
    "\n",
    "\n",
    "forest.fit(Xtrain, ytrain)\n",
    "\n",
    "score = cross_val_score(forest, Xtest, ytest, cv=5).mean()\n",
    "\n",
    "print(score * 78065 , score)"
   ]
  },
  {
   "cell_type": "markdown",
   "metadata": {},
   "source": [
    "It seems like the default parameters with perform better (77.91 > 76.84%) than the tuned version so we'll keep it that way."
   ]
  },
  {
   "cell_type": "markdown",
   "metadata": {},
   "source": [
    "### Learning Curve function"
   ]
  },
  {
   "cell_type": "code",
   "execution_count": 59,
   "metadata": {},
   "outputs": [
    {
     "data": {
      "image/png": "[encoded data removed]",
      "text/plain": [
       "<Figure size 1152x432 with 2 Axes>"
      ]
     },
     "metadata": {},
     "output_type": "display_data"
    }
   ],
   "source": [
    "fig, ax = plt.subplots(1, 2, figsize=(16, 6))\n",
    "\n",
    "fig.subplots_adjust(left=0.0625, right=0.95, wspace=0.1)\n",
    "\n",
    "estimator = RandomForestClassifier()\n",
    "\n",
    "\n",
    "for i, degree in enumerate([10, 20]):\n",
    "\tN, train_lc, val_lc = learning_curve(RandomForestClassifier(n_estimators=degree),\n",
    "\t\t\t\t\t\t\t\t\ttrainDF, target, cv=4,train_sizes=np.linspace(0.3, 1, 25))\n",
    "\tax[1].plot(N, np.mean(train_lc, 1), color='blue', label='training score')\n",
    "\tax[1].plot(N, np.mean(val_lc, 1), color='red', label='validation score')\n",
    "\tax[1].hlines(np.mean([train_lc[-1], val_lc[-1]]), N[1], N[-1], color='gray',\n",
    "\tlinestyle=\"dashed\")\n",
    "\tax[1].set_ylim(0, 1)\n",
    "\tax[1].set_xlabel('training size')\n",
    "\tax[1].set_ylabel('score')\n",
    "\tax[i].set_title('degree = {0}'.format(degree), size=14)\n",
    "\tax[1].legend(loc=\"best\")"
   ]
  },
  {
   "cell_type": "markdown",
   "metadata": {},
   "source": [
    "### Validation Curve"
   ]
  },
  {
   "cell_type": "code",
   "execution_count": 61,
   "metadata": {},
   "outputs": [
    {
     "name": "stderr",
     "output_type": "stream",
     "text": [
      "/Users/nikitasfilosofof/.pyenv/versions/3.9.1/lib/python3.9/site-packages/sklearn/utils/validation.py:70: FutureWarning: Pass param_name=n_estimators, param_range=[5, 10, 20] as keyword args. From version 1.0 (renaming of 0.25) passing these as positional arguments will result in an error\n",
      "  warnings.warn(f\"Pass {args_msg} as keyword args. From version \"\n"
     ]
    },
    {
     "name": "stdout",
     "output_type": "stream",
     "text": [
      "[[0.97626603 0.97553268 0.97593301 0.975333  ]\n",
      " [0.99070642 0.99083976 0.98978653 0.98999987]\n",
      " [0.99807995 0.99821329 0.99837331 0.99810664]] [[0.61696    0.70256    0.67810712 0.68318733]\n",
      " [0.63384    0.68908    0.69590784 0.69082763]\n",
      " [0.62272    0.70124    0.69606784 0.69570783]]\n",
      "0.6755171326853074\n"
     ]
    }
   ],
   "source": [
    "n_estimator = [5,10,20]\n",
    "estimator = RandomForestClassifier()\n",
    "train_score, val_score = validation_curve(estimator, \n",
    "\t\t\t\t\t\t\t\t\ttrainDF, target, 'n_estimators', n_estimator, cv=4 )\n",
    "\n",
    "\n",
    "print(train_score, val_score)\n",
    "\n",
    "cross_val_score(estimator, trainDF, target, cv=4)\n",
    "print(val_score.mean())"
   ]
  },
  {
   "cell_type": "code",
   "execution_count": 62,
   "metadata": {},
   "outputs": [
    {
     "data": {
      "image/png": "[encoded data removed]",
      "text/plain": [
       "<Figure size 1080x576 with 1 Axes>"
      ]
     },
     "metadata": {},
     "output_type": "display_data"
    }
   ],
   "source": [
    "plt.plot(n_estimator, np.median(train_score, 1), color='blue', label='training score')\n",
    "plt.plot(n_estimator, np.median(val_score, 1), color='red', label='validation score')\n",
    "plt.legend(loc=\"best\")\n",
    "\n",
    "plt.ylim(0, 1)\n",
    "\n",
    "plt.xlabel('estimator')\n",
    "\n",
    "plt.ylabel('score');"
   ]
  },
  {
   "cell_type": "markdown",
   "metadata": {},
   "source": [
    "# Test Data"
   ]
  },
  {
   "cell_type": "code",
   "execution_count": 108,
   "metadata": {},
   "outputs": [
    {
     "name": "stderr",
     "output_type": "stream",
     "text": [
      "/Users/nikitasfilosofof/.pyenv/versions/3.9.1/lib/python3.9/site-packages/pandas/core/indexing.py:1637: SettingWithCopyWarning: \n",
      "A value is trying to be set on a copy of a slice from a DataFrame\n",
      "\n",
      "See the caveats in the documentation: https://pandas.pydata.org/pandas-docs/stable/user_guide/indexing.html#returning-a-view-versus-a-copy\n",
      "  self._setitem_single_block(indexer, value, name)\n"
     ]
    }
   ],
   "source": [
    "testDF = pd.read_csv('KS_test_data.csv', delimiter=';')\n",
    "\n",
    "testDF = prepareDataframe(testDF)\n",
    "\n",
    "deriveFeatures(testDF)\n",
    "\n",
    "encodeVariables(testDF)\n",
    "\n",
    "project_IDs = testDF['project_id']\n",
    "\n",
    "testDF = testDF.drop(['project_id', 'blurb', 'name', 'reward_url', 'project_url', 'goal', 'fx_rate'], axis=1)"
   ]
  },
  {
   "cell_type": "code",
   "execution_count": 109,
   "metadata": {},
   "outputs": [
    {
     "data": {
      "text/plain": [
       "{False: 14210, True: 63855}"
      ]
     },
     "execution_count": 109,
     "metadata": {},
     "output_type": "execute_result"
    }
   ],
   "source": [
    "forest = RandomForestClassifier(n_estimators=20)\n",
    "\n",
    "forest.fit(Xtrain,ytrain)\n",
    "y_model = forest.predict(testDF)\n",
    "\n",
    "unique, counts = np.unique(y_model, return_counts=True)\n",
    "dict(zip(unique, counts))"
   ]
  },
  {
   "cell_type": "code",
   "execution_count": 110,
   "metadata": {},
   "outputs": [],
   "source": [
    "predictionsDF = pd.read_csv('KS_test_data.csv', delimiter=';')\n",
    "predictionsDF = predictionsDF['project_id'].to_frame()\n",
    "\n",
    "\n",
    "predictionsDF['predictions'] = y_model\n",
    "\n",
    "\n",
    "predictionsDF.to_csv('predictions.tsv', sep='\\t')"
   ]
  },
  {
   "cell_type": "code",
   "execution_count": null,
   "metadata": {},
   "outputs": [],
   "source": []
  }
 ],
 "metadata": {
  "interpreter": {
   "hash": "d15ef4a0ce9ff91e26ac205e9f62a732280b198c11e0b20c6ee892552992b6f2"
  },
  "kernelspec": {
   "display_name": "Python 3.9.1 64-bit ('3.9.1': pyenv)",
   "name": "python3"
  },
  "language_info": {
   "codemirror_mode": {
    "name": "ipython",
    "version": 3
   },
   "file_extension": ".py",
   "mimetype": "text/x-python",
   "name": "python",
   "nbconvert_exporter": "python",
   "pygments_lexer": "ipython3",
   "version": "3.9.1"
  },
  "orig_nbformat": 4
 },
 "nbformat": 4,
 "nbformat_minor": 2
}
